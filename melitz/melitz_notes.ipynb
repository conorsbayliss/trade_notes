{
 "cells": [
  {
   "cell_type": "markdown",
   "metadata": {},
   "source": [
    "# **Melitz Notes**"
   ]
  },
  {
   "cell_type": "markdown",
   "metadata": {},
   "source": [
    "## *Conor Bayliss*"
   ]
  },
  {
   "cell_type": "markdown",
   "metadata": {},
   "source": [
    "### **Spring 2024**"
   ]
  },
  {
   "cell_type": "markdown",
   "metadata": {},
   "source": [
    "***Consider an economy where consumbers have Dixit-Stiglitz utility functions and solve the problem***\n",
    "$$\n",
    "\\max_{\\{c_0.\\{c(z)\\}_z\\}} (1-\\alpha) \\log(c_0) + \\frac{\\alpha}{\\rho}\\log \\int_0^m c(z)^{\\rho} dz\n",
    "$$\n",
    "$$\n",
    "s.t. \\quad p_0c_0 + \\int_0^m p(z)c(z) dz = w\\bar{l} + \\pi\n",
    "$$\n",
    "$$\n",
    "c(z) \\geq 0\n",
    "$$"
   ]
  },
  {
   "cell_type": "markdown",
   "metadata": {},
   "source": [
    "***Here, $1>\\alpha>0$ and $1>\\rho>0$. Furthermore, $m>0$ is the measure of firms, which is determined in equilibrium. The measure of potential forms in fixed at $\\mu>0$. Suppose that good 0 is produced with the constant-returns production function $y_0 = l_0$.***"
   ]
  },
  {
   "cell_type": "markdown",
   "metadata": {},
   "source": [
    "#### ***(a)***"
   ]
  },
  {
   "cell_type": "markdown",
   "metadata": {},
   "source": [
    "***Suppose that the producer of good $z$ takes the prices $p(z')$, for $z'\\neq z$ as given. Suppose too that this producer has the production function***\n",
    "$$\n",
    "y(z) = \\max[x(z)(l(z)-f),0],\n",
    "$$\n",
    "***where $x(z)>0$ is the firm's productivity level and $f>0$. Solve the firm's profit maximisation problem to derive and optimal pricing rule.***"
   ]
  },
  {
   "cell_type": "markdown",
   "metadata": {},
   "source": [
    "Set up the Lagrangian\n",
    "$$\n",
    "\\mathcal{L} = (1-\\alpha) \\log(c_0) + \\frac{\\alpha}{\\rho}\\log \\int_0^m c(z)^{\\rho} dz + \\lambda \\left[\\pi + w\\bar{l} - p_0c_0 - \\int_0^m p(z)c(z) dz\\right]\n",
    "$$\n",
    "and take first-order conditions\n",
    "$$\n",
    "[c_0]: \\frac{1-\\alpha}{c_0} = \\lambda p_0\n",
    "$$\n",
    "$$\n",
    "[c(z)]: \\frac{\\alpha c(z)^{\\rho-1}}{\\int_0^m c(z)^{\\rho}dz} = \\lambda p(z)\n",
    "$$\n",
    "$$\n",
    "[c(z')]: \\frac{\\alpha c(z')^{\\rho-1}}{\\int_0^m c(z)^{\\rho}dz} = \\lambda p(z').\n",
    "$$\n",
    "Using the first-order conditions on the two different varieties, we see\n",
    "$$\n",
    "c(z) = \\left[\\frac{p(z')}{p(z)} \\right]^{\\frac{1}{1-\\rho}}c(z')\n",
    "$$\n",
    "and then, plugging this condition back into the consumption aggregator, we find\n",
    "$$\n",
    "\\int_0^m c(z)^{\\rho}dz = \\int_0^m p(z')^{\\frac{\\rho}{1-\\rho}}p(z)^{\\frac{\\rho}{\\rho-1}}c(z')^{\\rho}dz\n",
    "$$\n",
    "$$\n",
    "\\implies c(z')^{\\rho}p(z')^{\\frac{\\rho}{1-\\rho}}\\int_0^m p(z)^\\frac{\\rho}{\\rho-1}dz\n",
    "$$\n",
    "and then define our price index as\n",
    "$$\n",
    "\\bar{P} = \\left[ \\int_0^m p(z)^{\\frac{\\rho}{\\rho-1}}dz \\right]^{\\frac{\\rho-1}{\\rho}}\n",
    "$$\n",
    "and so, we find\n",
    "$$\n",
    "\\int_0^m c(z)^{\\rho}dz = c(z')^{\\rho}p(z')^{\\frac{\\rho}{1-\\rho}} \\bar{P}^{\\frac{\\rho}{\\rho-1}}.\n",
    "$$"
   ]
  },
  {
   "cell_type": "markdown",
   "metadata": {},
   "source": [
    "Now, return to the first-order condition on $c(z)$. Notice that,\n",
    "$$\n",
    "\\frac{\\alpha c(z)^{\\rho-1}}{\\int_0^m c(z)^{\\rho}dz} = \\lambda p(z) \n",
    "$$\n",
    "$$\n",
    "\\implies \\frac{\\alpha c(z)^{\\rho}}{\\int_0^m c(z)^{\\rho}dz} = \\lambda p(z)c(z) \n",
    "$$\n",
    "and then subsituting in the relationship we found above, we obtain\n",
    "$$\n",
    "\\frac{\\alpha c(z)^{\\rho}}{c(z)^{\\rho}p(z)^{\\frac{\\rho}{1-\\rho}} \\bar{P}^{\\frac{\\rho}{\\rho-1}}} = \\lambda p(z)c(z) \n",
    "$$\n",
    "$$\n",
    "\\implies \\frac{\\alpha}{p(z)^{\\frac{\\rho}{1-\\rho}}\\bar{P}^{\\frac{\\rho}{\\rho-1}}} = \\lambda p(z)c(z)\n",
    "$$\n",
    "$$\n",
    "\\implies \\frac{\\alpha}{p(z)^{\\frac{\\rho}{1-\\rho}}\\bar{P}^{\\frac{\\rho}{\\rho-1}}} = \\frac{(1-\\alpha)}{p_0c_0} p(z)c(z)\n",
    "$$\n",
    "where the second equality is from the first-order condition on good $0$. So, \n",
    "$$\n",
    "\\alpha p_0c_0 \\bar{P}^{\\frac{\\rho}{1-\\rho}}p(z)^{\\frac{\\rho}{\\rho-1}} = (1-\\alpha) p(z)c(z).\n",
    "$$\n",
    "Then, summing over all varieties we have\n",
    "$$\n",
    "\\alpha p_0c_0 \\bar{P}^{\\frac{\\rho}{1-\\rho}} \\int_0^m p(z)^{\\frac{\\rho}{\\rho-1}} dz = (1-\\alpha) \\int_0^m p(z)c(z)dz\n",
    "$$\n",
    "and so\n",
    "$$\n",
    "\\alpha p_0c_0 = (1-\\alpha) \\int_0^m p(z)c(z)dz\n",
    "$$\n",
    "by the definition of the price index."
   ]
  },
  {
   "cell_type": "markdown",
   "metadata": {},
   "source": [
    "We know from the budget constraint that\n",
    "$$\n",
    "\\pi + w\\bar{l} = p_0c_0 + \\int_0^m p(z)c(z)dz\n",
    "$$\n",
    "and then using the above condition\n",
    "$$\n",
    "\\pi + w\\bar{l} = p_0c_0 + \\frac{\\alpha}{(1-\\alpha)} p_0c_0\n",
    "$$\n",
    "$$\n",
    "\\implies \\pi + w\\bar{l} = \\frac{1}{1-\\alpha}  p_0c_0\n",
    "$$\n",
    "$$\n",
    "\\implies c_0 = \\frac{\\left[\\pi + w\\bar{l}\\right](1-\\alpha)}{p_0}\n",
    "$$\n",
    "and so we have found $c_0$. We must now find an expression for $c(z), \\forall z$. Again, using the relationship above,\n",
    "$$\n",
    "\\pi + w\\bar{l} = \\frac{1}{\\alpha}  \\int_0^m p(z)c(z') p(z)^\\frac{1}{\\rho-1}p(z')^\\frac{1}{1-\\rho}   dz\n",
    "$$\n",
    "$$\n",
    "\\implies \\pi + w\\bar{l} = \\frac{1}{\\alpha}  c(z') p(z')^\\frac{1}{1-\\rho}  \\int_0^m p(z)^\\frac{\\rho}{\\rho-1} dz\n",
    "$$\n",
    "$$\n",
    "\\implies \\pi + w\\bar{l} = \\frac{1}{\\alpha}  c(z') p(z')^\\frac{1}{1-\\rho}  \\bar{P}^{\\frac{\\rho}{\\rho-1}}\n",
    "$$\n",
    "$$\n",
    "\\implies \\frac{\\left[\\pi + w\\bar{l}\\right]\\alpha}{p(z')^\\frac{1}{1-\\rho}\\bar{P}^{\\frac{\\rho}{\\rho-1}}} = c(z')\n",
    "$$\n",
    "$$\n",
    "\\implies c(z) = \\frac{\\alpha\\left[\\pi + w\\bar{l}\\right]}{p(z)^\\frac{1}{1-\\rho}\\bar{P}^{\\frac{\\rho}{\\rho-1}}}, \\forall z.\n",
    "$$"
   ]
  },
  {
   "cell_type": "markdown",
   "metadata": {},
   "source": [
    "Now that we have the above conditions, we can derive the firm's optimal pricing rule. To do so, we note that the firms solves the following problem\n",
    "$$\n",
    "\\max_{\\{p(z)\\}} p(z)c(z) - \\frac{wc(z)}{x(z)} - wf,\n",
    "$$\n",
    "$$\n",
    "s.t. \\quad c(z) = \\frac{\\alpha\\left[\\pi + w\\bar{l}\\right]}{p(z)^\\frac{1}{1-\\rho}\\bar{P}^{\\frac{\\rho}{\\rho-1}}}.\n",
    "$$\n",
    "This is equivalent to:\n",
    "$$\n",
    "\\max_{\\{p(z)\\}} p(z) \\frac{\\alpha\\left[\\pi + w\\bar{l}\\right]}{p(z)^\\frac{1}{1-\\rho}\\bar{P}^{\\frac{\\rho}{\\rho-1}}} -\\frac{w}{x(z)}\\frac{\\alpha\\left[\\pi + w\\bar{l}\\right]}{p(z)^\\frac{1}{1-\\rho}\\bar{P}^{\\frac{\\rho}{\\rho-1}}} - wf.\n",
    "$$\n",
    "First, rearrange the above to\n",
    "$$\n",
    "\\max_{\\{p(z)\\}} \\frac{\\alpha\\left[\\pi + w\\bar{l}\\right]}{\\bar{P}^{\\frac{\\rho}{\\rho-1}}}p(z)^{\\frac{\\rho}{\\rho-1}} - \\frac{w\\alpha\\left[\\pi + w\\bar{l}\\right]}{x(z)\\bar{P}^{\\frac{\\rho}{\\rho-1}}}p(z)^{\\frac{1}{\\rho-1}} - wf,\n",
    "$$\n",
    "and the, taking first-order conditions we find\n",
    "$$\n",
    "[p(z)]: 0 = \\frac{\\alpha\\left[\\pi + w\\bar{l}\\right]}{\\bar{P}^{\\frac{\\rho}{\\rho-1}}} \\frac{\\rho}{\\rho-1} p(z)^{\\frac{1}{\\rho-1}} - \\frac{w\\alpha\\left[\\pi + w\\bar{l}\\right]}{x(z)\\bar{P}^{\\frac{\\rho}{\\rho-1}}} {\\frac{1}{\\rho-1}} p(z)^{\\frac{2-\\rho}{\\rho-1}} \n",
    "$$\n",
    "$$\n",
    "\\implies \\rho p(z)^{\\frac{1}{\\rho-1}} = \\frac{w}{x(z)} p(z)^{\\frac{2-\\rho}{\\rho-1}} \n",
    "$$\n",
    "$$\n",
    "\\implies \\frac{\\rho x(z)}{w} = p(x)^{\\frac{2-\\rho}{\\rho-1}-\\frac{1}{\\rho}} = p(x)^{-1}\n",
    "$$\n",
    "$$\n",
    "\\implies p(z) = \\frac{w}{\\rho x(z)}, \\forall z.\n",
    "$$"
   ]
  },
  {
   "cell_type": "markdown",
   "metadata": {},
   "source": [
    "Finally, since good $0$ is CRS, it must be that $w=p_0$. So, let us standardise $w=p_0=1$ and as such\n",
    "$$\n",
    "p(z) = \\frac{1}{\\rho x(z)}, \\forall z.\n",
    "$$"
   ]
  },
  {
   "cell_type": "markdown",
   "metadata": {},
   "source": [
    "#### ***(b)***"
   ]
  },
  {
   "cell_type": "markdown",
   "metadata": {},
   "source": [
    "***Suppose that good $0$ is produced with the constant-returns production function specified above. Suppose that firm productivities are distributed on the interval $x\\geq1$ according to the Pareto distribution with distribution function***\n",
    "$$\n",
    "F(x) = 1-x^{-\\gamma},\n",
    "$$\n",
    "***where $\\gamma>2$ and $\\gamma>\\frac{\\rho}{1-\\rho}$. Also suppose that the measure of potential firms is fixed at $\\mu$. Define an equilibrium for this economy.***"
   ]
  },
  {
   "cell_type": "markdown",
   "metadata": {},
   "source": [
    "##### **Equilibrium**"
   ]
  },
  {
   "cell_type": "markdown",
   "metadata": {},
   "source": [
    "Given a fixed measure of firms $\\mu>0$ an equilibrium consists of:\n",
    "* A measure of firms, $\\{\\hat{m} \\}$\n",
    "* Prices, $\\hat{\\mathcal{P}} = \\{\\hat{w},\\hat{p_0}, \\{\\hat{p}(z)\\}_z,\\bar{P}\\}$\n",
    "* Consumer allocation $\\hat{\\mathcal{G}} = \\{\\hat{c_0},\\{\\hat{c}(z)\\}_z \\}$\n",
    "* Production plans $\\tilde{\\mathcal{G}} =  \\{\\{\\hat{y_0},\\hat{l_0}\\},\\{\\hat{y}(z), \\hat{l}(z)\\}_z \\} $\n",
    "* Profits $\\{\\pi(z)\\}_z$\n",
    "* and a critical productivity value, $\\bar{x}$\n",
    "\n",
    "such that\n",
    "\n",
    "*(1)* Given $\\hat{\\mathcal{P}}$, consumers choose $\\hat{\\mathcal{G}}$ to solve\n",
    "$$\n",
    "\\max_{\\{\\mathcal{G}\\}} (1-\\alpha) \\log(c_0) + \\frac{\\alpha}{\\rho}\\log \\int_0^m c(z)^{\\rho} dz\n",
    "$$\n",
    "$$\n",
    "s.t. \\quad p_0c_0 + \\int_0^m p(z)c(z) dz = w\\bar{l} + \\pi\n",
    "$$\n",
    "$$\n",
    "c(z) \\geq 0, \\forall z\n",
    "$$\n",
    "*(2)* $\\hat{w}$ and $\\hat{p_0}$ are such that the agricultural firm chooses $\\{ \\hat{y_0}, \\hat{l_0}  \\}$ to earn zero profits,\n",
    "$$\n",
    "\\hat{p_0}y_0 - \\hat{w}l_0 \\leq 0 \n",
    "$$\n",
    "and note that this holds with equality if $y_0 > 0$.\n",
    "\n",
    "*(3)* Given $\\hat{\\mathcal{P}}$, producers of good $z$ with $x(z)\\geq \\bar{x}$ choose $\\{\\hat{p}(z)\\}, \\{\\hat{y}(z),\\hat{l}(z)\\}$ to solve\n",
    "$$\n",
    "\\pi(x(z)) = \\max_{\\{p(z)\\}} p(z)y(z) - \\frac{\\hat{w}l(z)}{x(z)} - \\hat{w}f, \n",
    "$$\n",
    "$$\n",
    "s.t. \\quad y(z) = \\frac{\\alpha\\left[\\hat{w}\\bar{l} + \\int_0^{\\hat{m}} \\pi(z)dz  \\right]}{p(z)^{\\frac{1}{1-\\rho}}\\bar{P}^\\frac{\\rho}{\\rho-1}}, \\quad y(z)\\leq l(z), \\quad \\bar{P} = \\left[ \\int_0^{\\hat{m}}p(z)^{\\frac{\\rho}{\\rho-1}} dz \\right]^{\\frac{\\rho-1}{\\rho}}\n",
    "$$\n",
    "*(4)* The measure of producing firms is given by\n",
    "$$\n",
    "\\hat{m} = \\mu \\int_{\\bar{x}}^{\\infty} dF(x).\n",
    "$$\n",
    "*(5)* and markets clear\n",
    "$$\n",
    "\\hat{y_0} = \\hat{c_0}\n",
    "$$\n",
    "$$\n",
    "\\hat{l_0} + \\int_0^{\\hat{m}} \\hat{l(z)}dz = \\bar{l}\n",
    "$$\n",
    "$$\n",
    "\\hat{c}(z) = \\hat{y}(z)=\\hat{l}(z), \\forall z.\n",
    "$$"
   ]
  },
  {
   "cell_type": "markdown",
   "metadata": {},
   "source": [
    "#### ***(c)***"
   ]
  },
  {
   "cell_type": "markdown",
   "metadata": {},
   "source": [
    "***Suppose that, in equilibrium not all firms actually produce. Find an expression for the productivity of the least productive firm that produces. That is, find a productivity $\\bar{x}>1$ such that no firm with $x(z)<\\bar{x}$ produces and all firms with $x(z)\\geq\\bar{x}$ produce. Relate the measure of firms that produce, $m$, to the measure of potential firms and the cutoff, $\\bar{x}$.***"
   ]
  },
  {
   "cell_type": "markdown",
   "metadata": {},
   "source": [
    "Above, we defined the price index as \n",
    "$$\n",
    "\\bar{P} = \\left[\\int_0^{\\hat{m}} p(z)^{\\frac{\\rho}{\\rho-1}} dz \\right]^{\\frac{\\rho-1}{\\rho}}.\n",
    "$$\n",
    "We can rewrite this in terms of productivities as\n",
    "$$\n",
    "\\bar{P} = \\left[\\mu \\int_{\\bar{x}}^{\\infty} p(x)^{\\frac{\\rho}{\\rho-1}} dF(x)\\right]^{\\frac{\\rho-1}{\\rho}}\n",
    "$$ \n",
    "$$\n",
    "\\implies \\bar{P}^{\\frac{\\rho}{\\rho-1}} = \\mu \\int_{\\bar{x}}^{\\infty} p(x)^{\\frac{\\rho}{\\rho-1}} dF(x).\n",
    "$$\n",
    "Since the pdf of a Pareto distribution is given by $\\gamma x^{-\\gamma - 1}$, we can alternatively write the price index as\n",
    "$$\n",
    "\\bar{P}^{\\frac{\\rho}{\\rho-1}} = \\mu \\gamma \\int_{\\bar{x}}^{\\infty} p(x)^{\\frac{\\rho}{\\rho-1}} x^{-\\gamma - 1} dx\n",
    "$$\n",
    "and then, recalling that the optimal pricing rule is $\\hat{p}(x) = \\frac{1}{\\rho x}$, we find\n",
    "$$\n",
    "\\bar{P}^{\\frac{\\rho}{\\rho-1}} = \\mu \\gamma \\int_{\\bar{x}}^{\\infty} \\left(\\frac{1}{\\rho x}\\right)^{\\frac{\\rho}{\\rho-1}} x^{-\\gamma - 1} dx\n",
    "$$\n",
    "$$\n",
    "\\implies \\bar{P}^{\\frac{\\rho}{\\rho-1}} = \\mu \\gamma \\rho^{\\frac{\\rho}{1-\\rho}}\\int_{\\bar{x}}^{\\infty}  x^{\\frac{\\rho}{1-\\rho}-\\gamma - 1} dx\n",
    "$$\n",
    "$$\n",
    "\\implies \\bar{P}^{\\frac{\\rho}{\\rho-1}} = \\mu \\gamma \\rho^{\\frac{\\rho}{1-\\rho}} \\left[\\frac{x^{\\frac{\\rho}{1-\\rho}-\\gamma}}{\\frac{\\rho}{1-\\rho}-\\gamma} \\right]_{\\bar{x}}^{\\infty}\n",
    "$$\n",
    "$$\n",
    "\\implies \\bar{P}^{\\frac{\\rho}{\\rho-1}} = \\frac{\\mu \\gamma \\rho^{\\frac{\\rho}{1-\\rho}}}{\\frac{\\rho}{1-\\rho}-\\gamma} \\left[x^{\\frac{\\rho}{1-\\rho}-\\gamma} \\right]_{\\bar{x}}^{\\infty}\n",
    "$$\n",
    "$$\n",
    "\\implies \\bar{P}^{\\frac{\\rho}{\\rho-1}} = \\frac{(1-\\rho)\\mu \\gamma \\rho^{\\frac{\\rho}{1-\\rho}}}{\\rho-\\gamma(1-\\rho)} \\left[x^{\\frac{\\rho}{1-\\rho}-\\gamma} \\right]_{\\bar{x}}^{\\infty}\n",
    "$$\n",
    "and, since $\\gamma>\\frac{\\rho}{1-\\rho}$ by assumption, it must be that \n",
    "$$\n",
    "\\lim_{x\\rightarrow\\infty} x^{\\frac{\\rho}{1-\\rho}-\\gamma} = 0\n",
    "$$\n",
    "and so we end up with\n",
    "$$\n",
    "\\bar{P}^{\\frac{\\rho}{\\rho-1}} = \\frac{(1-\\rho)\\mu \\gamma \\rho^{\\frac{\\rho}{1-\\rho}}}{\\gamma(1-\\rho)-\\rho} \\bar{x}^{\\frac{\\rho-\\gamma(1-\\rho)}{1-\\rho}}\n",
    "$$\n",
    "where we note that we have swapped the sign on the denominator and rewritten the power on $\\bar{x}$."
   ]
  },
  {
   "cell_type": "markdown",
   "metadata": {},
   "source": [
    "Recall that the demand function, $c(x)$ is\n",
    "$$\n",
    "c(x) = \\frac{\\alpha(\\pi+\\bar{l})}{\\left(\\frac{1}{\\rho x}\\right)^{\\frac{1}{1-\\rho}}\\bar{P}^{\\frac{\\rho}{\\rho-1}}}\n",
    "$$\n",
    "where we have substituted in the optimal pricing rule, and so combining this with the above yields\n",
    "$$\n",
    "c(x) = \\frac{\\alpha(\\pi+\\bar{l})}{\\left(\\frac{1}{\\rho x}\\right)^{\\frac{1}{1-\\rho}}\\frac{(1-\\rho)\\mu \\gamma \\rho^{\\frac{\\rho}{1-\\rho}}}{\\gamma(1-\\rho)-\\rho} \\bar{x}^{\\frac{\\rho-\\gamma(1-\\rho)}{1-\\rho}}}\n",
    "$$\n",
    "$$\n",
    "\\implies c(x) = \\frac{(\\gamma(1-\\rho)-\\rho)\\alpha\\left(\\rho x\\right)^{\\frac{1}{1-\\rho}}(\\pi+\\bar{l})}{\\rho^{\\frac{\\rho}{1-\\rho}}(1-\\rho)\\mu\\gamma\\bar{x}^{\\frac{\\rho-\\gamma(1-\\rho)}{1-\\rho}}}.\n",
    "$$\n",
    "since\n",
    "$$\n",
    "\\frac{1}{\\left(\\frac{1}{\\rho x}\\right)^{\\frac{1}{1-\\rho}}} = \\frac{1}{\\left(\\rho x\\right)^{\\frac{1}{\\rho-1}}} = \\left(\\frac{1}{\\rho x}\\right)^{\\frac{1}{\\rho-1}}=\\left(\\rho x\\right)^{\\frac{1}{1-\\rho}}\n",
    "$$\n",
    "We also know that, at the cutoff productivity, the firm makes zero profits\n",
    "$$\n",
    "p(\\bar{x})c(\\bar{x}) - \\frac{c(\\bar{x})}{\\bar{x}} - f = 0\n",
    "$$\n",
    "and so, using the demand function and the optimal price, we find\n",
    "$$\n",
    "f = \\frac{1}{\\rho \\bar{x}}\\frac{(\\gamma(1-\\rho)-\\rho)\\alpha\\left(\\rho x\\right)^{\\frac{1}{1-\\rho}}(\\pi+\\bar{l})}{\\rho^{\\frac{\\rho}{1-\\rho}}(1-\\rho)\\mu\\gamma\\bar{x}^{\\frac{\\rho-\\gamma(1-\\rho)}{1-\\rho}}} - \\frac{1}{\\bar{x}}\\frac{(\\gamma(1-\\rho)-\\rho)\\alpha\\left(\\rho x\\right)^{\\frac{1}{1-\\rho}}(\\pi+\\bar{l})}{\\rho^{\\frac{\\rho}{1-\\rho}}(1-\\rho)\\mu\\gamma\\bar{x}^{\\frac{\\rho-\\gamma(1-\\rho)}{1-\\rho}}}\n",
    "$$\n",
    "and if we use\n",
    "$$\n",
    "\\rho^{\\frac{1}{1-\\rho}-\\frac{\\rho}{1-\\rho}-1} = 1, \\quad \\rho^{\\frac{1}{1-\\rho}-\\frac{\\rho}{1-\\rho}} = \\rho\n",
    "$$\n",
    "which simplifies to\n",
    "$$\n",
    "f =\\frac{(\\gamma(1-\\rho)-\\rho)\\alpha(\\pi+\\bar{l})x^{\\frac{1}{1-\\rho}}}{(1-\\rho)\\mu\\gamma\\bar{x}^{\\frac{\\rho-\\gamma(1-\\rho)}{1-\\rho}}\\bar{x}} - \\frac{(\\gamma(1-\\rho)-\\rho)\\alpha(\\pi+\\bar{l})x^{\\frac{1}{1-\\rho}}\\rho}{(1-\\rho)\\mu\\gamma\\bar{x}^{\\frac{\\rho-\\gamma(1-\\rho)}{1-\\rho}}\\bar{x}}\n",
    "$$\n",
    "and, since\n",
    "$$\n",
    "\\bar{x}^{-1+\\frac{1}{1-\\rho}-\\frac{\\rho-\\gamma(1-\\rho)}{1-\\rho}} = \\bar{x}^{\\gamma}\n",
    "$$\n",
    "we obtain\n",
    "$$\n",
    " f = \\frac{(\\gamma(1-\\rho)-\\rho)\\alpha(\\pi+\\bar{l})\\bar{x}^{\\gamma}}{(1-\\rho)\\mu\\gamma} - \\frac{(\\gamma(1-\\rho)-\\rho)\\alpha\\rho(\\pi+\\bar{l})\\bar{x}^{\\gamma}}{(1-\\rho)\\mu\\gamma}\n",
    "$$\n",
    "$$\n",
    "\\implies f = \\frac{(\\gamma(1-\\rho)-\\rho)\\alpha(1-\\rho)(\\pi+\\bar{l})}{(1-\\rho)\\mu\\gamma\\bar{x}^{-\\gamma}}\n",
    "$$\n",
    "$$\n",
    "\\implies f = \\frac{(\\gamma(1-\\rho)-\\rho)\\alpha(\\pi+\\bar{l})}{\\mu\\gamma\\bar{x}^{-\\gamma}}\n",
    "$$\n",
    "and so, rearranging this condition gives us an expression for the cutoff productivity, $\\bar{x}$\n",
    "$$\n",
    "\\bar{x} = \\left(\\frac{\\mu \\gamma f }{\\alpha(\\pi + \\bar{l})(\\gamma(1-\\rho)-\\rho)}\\right)^{\\frac{1}{\\gamma}}\n",
    "$$"
   ]
  },
  {
   "cell_type": "markdown",
   "metadata": {},
   "source": [
    "However, we must note that this expression depends upon aggregate profits, $\\pi$. The expression for aggregate profits is:\n",
    "$$\n",
    "\\pi = \\mu \\gamma\\int_{\\bar{x}}^{\\infty} \\left[p(x)c(x) - \\frac{c(x)}{x} - f \\right] x^{-\\gamma -1} dx\n",
    "$$\n",
    "and subsituting in our expressions for $c(x)$ and $p(x)$ we obtain\n",
    "$$\n",
    "\\pi = \\mu \\gamma \\int_{\\bar{x}}^{\\infty} \\left[\\frac{1}{\\rho x}\\frac{\\left[\\gamma(1-\\rho)-\\rho\\right]\\alpha\\rho(\\pi+\\bar{l})x^{\\frac{1}{\\rho-1}}}{(1-\\rho)\\mu\\gamma x^{\\frac{\\rho-\\gamma(1-\\rho)}{1-\\rho}}} -\\frac{1}{x}\\frac{\\left[\\gamma(1-\\rho)-\\rho\\right]\\alpha\\rho(\\pi+\\bar{l})x^{\\frac{1}{\\rho-1}}}{(1-\\rho)\\mu\\gamma\\bar{x}^{\\frac{\\rho-\\gamma(1-\\rho)}{1-\\rho}}}   \\right] x^{-\\gamma-1} dx - \\mu\\gamma f\\int_{\\bar{x}}^{\\infty}x^{-\\gamma-1}dx.\n",
    "$$\n",
    "Let us first deal the last term on the right-hand side, which is the easiet of the above integrals to evaluate.\n",
    "$$\n",
    "(-\\mu\\gamma f)\\int_{\\bar{x}}^{\\infty}x^{-\\gamma-1}dx = \\mu f \\gamma \\left[\\frac{x^{-\\gamma}}{-\\gamma}   \\right]_{\\bar{x}}^{\\infty} = \\mu f \\left[\\frac{1}{x^{\\gamma}}   \\right]_{\\bar{x}}^{\\infty} = - \\frac{\\mu f}{\\bar{x}^{\\gamma}}\n",
    "$$\n",
    "and so, returning the main integral, we see\n",
    "$$\n",
    "\\pi = \\mu \\gamma \\int_{\\bar{x}}^{\\infty} \\left[\\frac{1}{\\rho x}\\frac{\\left[\\gamma(1-\\rho)-\\rho\\right]\\alpha\\rho(\\pi+\\bar{l})x^{\\frac{1}{\\rho-1}}}{(1-\\rho)\\mu\\gamma x^{\\frac{\\rho-\\gamma(1-\\rho)}{1-\\rho}}} -\\frac{1}{x}\\frac{\\left[\\gamma(1-\\rho)-\\rho\\right]\\alpha\\rho(\\pi+\\bar{l})x^{\\frac{1}{\\rho-1}}}{(1-\\rho)\\mu\\gamma\\bar{x}^{\\frac{\\rho-\\gamma(1-\\rho)}{1-\\rho}}}   \\right] x^{-\\gamma-1} dx - \\frac{\\mu f}{\\bar{x}^{\\gamma}}\n",
    "$$\n",
    "$$\n",
    "\\implies \\pi = \\frac{\\left[\\gamma(1-\\rho)-\\rho\\right]\\alpha (\\pi+\\bar{l})}{\\bar{x}^{\\frac{\\rho-\\gamma(1-\\rho)}{1-\\rho}}} \\int_{\\bar{x}}^{\\infty} x^{\\frac{\\rho}{1-\\rho}-\\gamma-1} dx -  \\frac{\\mu f}{\\bar{x}^{\\gamma}}\n",
    "$$\n",
    "$$\n",
    "\\implies \\pi = \\frac{\\left[\\gamma(1-\\rho)-\\rho\\right]\\alpha (\\pi+\\bar{l})}{\\bar{x}^{\\frac{\\rho-\\gamma(1-\\rho)}{1-\\rho}}} \\left[\\frac{x^{\\frac{\\rho}{1-\\rho}-\\gamma}}{\\frac{\\rho}{1-\\rho}-\\gamma}   \\right]_{\\bar{x}}^{\\infty} -  \\frac{\\mu f}{\\bar{x}^{\\gamma}}\n",
    "$$\n",
    "and, as above, since $\\gamma > \\frac{\\rho}{1-\\rho}$, it is the case that\n",
    "$$\n",
    "\\lim_{x\\rightarrow \\infty}x^{\\frac{\\rho}{1-\\rho}-\\gamma} = 0 \n",
    "$$ \n",
    "and so we are left with\n",
    "$$\n",
    "\\pi = - \\frac{\\left[\\gamma(1-\\rho)-\\rho\\right]\\alpha (\\pi+\\bar{l})}{\\bar{x}^{\\frac{\\rho-\\gamma(1-\\rho)}{1-\\rho}}}\\frac{\\bar{x}^{\\frac{\\rho}{1-\\rho} - \\gamma}}{\\frac{\\rho}{1-\\rho} - \\gamma} = \\frac{\\left[\\gamma(1-\\rho)-\\rho\\right]\\alpha (\\pi+\\bar{l})}{\\bar{x}^{\\frac{\\rho-\\gamma(1-\\rho)}{1-\\rho}}} \\frac{\\bar{x}^{\\frac{\\rho}{1-\\rho} - \\gamma}}{\\gamma-\\frac{\\rho}{1-\\rho}} -  \\frac{\\mu f}{\\bar{x}^{\\gamma}}\n",
    "$$\n",
    "$$\n",
    "\\implies \\pi = \\frac{\\left[\\gamma(1-\\rho)-\\rho\\right]\\alpha(1-\\rho) (\\pi+\\bar{l})}{\\bar{x}^{\\frac{\\rho-\\gamma(1-\\rho)}{1-\\rho}}} \\frac{\\bar{x}^{\\frac{\\rho}{1-\\rho} - \\gamma}}{\\left[\\gamma(1-\\rho)-\\rho\\right]} -  \\frac{\\mu f}{\\bar{x}^{\\gamma}}\n",
    "$$\n",
    "$$\n",
    "\\implies \\pi = \\frac{\\alpha(1-\\rho) (\\pi+\\bar{l})\\bar{x}^{\\frac{\\rho}{1-\\rho} - \\gamma}}{\\bar{x}^{\\frac{\\rho-\\gamma(1-\\rho)}{1-\\rho}}} -  \\frac{\\mu f}{\\bar{x}^{\\gamma}}.\n",
    "$$\n",
    "Note that \n",
    "$$\n",
    "\\bar{x}^{\\frac{\\rho}{1-\\rho} - \\gamma} = \\bar{x}^{\\frac{\\rho - \\gamma(1-\\rho)}{1-\\rho}}\n",
    "$$\n",
    "and so we arrive at\n",
    "$$\n",
    "\\pi = \\alpha(1-\\rho) (\\pi+\\bar{l}) -  \\frac{\\mu f}{\\bar{x}^{\\gamma}}\n",
    "$$\n",
    "and, recalling that \n",
    "$$\n",
    "\\bar{x} = \\left(\\frac{\\mu \\gamma f }{\\alpha(\\pi + \\bar{l})(\\gamma(1-\\rho)-\\rho)}\\right)^{\\frac{1}{\\gamma}}\n",
    "$$\n",
    "we can rearrange our expression for aggregate profits into\n",
    "$$\n",
    "\\pi = \\alpha(1-\\rho) (\\pi+\\bar{l}) -  \\frac{\\mu f\\alpha(\\pi + \\bar{l})(\\gamma(1-\\rho)-\\rho)}{\\mu \\gamma f }\n",
    "$$\n",
    "$$\n",
    "\\implies \\pi = \\alpha(1-\\rho) (\\pi+\\bar{l}) - \\frac{\\alpha(\\pi + \\bar{l})(\\gamma(1-\\rho)-\\rho)}{\\gamma}\n",
    "$$\n",
    "$$\n",
    "\\implies \\gamma\\pi = \\gamma\\alpha(1-\\rho) (\\pi+\\bar{l}) - \\alpha(\\pi + \\bar{l})(\\gamma(1-\\rho)-\\rho)\n",
    "$$\n",
    "$$\n",
    "\\implies \\pi\\left[\\gamma -\\gamma\\alpha(1-\\rho)   +\\alpha(\\gamma(1-\\rho)-\\rho)  \\right] = \\bar{l}\\left[\\gamma\\alpha(1-\\rho)-\\alpha(\\gamma(1-\\rho)-\\rho)   \\right]\n",
    "$$\n",
    "$$\n",
    "\\implies \\pi \\left[\\gamma -\\gamma\\alpha + \\gamma\\alpha\\rho -\\alpha\\rho + \\alpha\\gamma - \\alpha\\gamma\\rho  \\right] = \\bar{l}\\left[\\gamma\\alpha - \\gamma\\alpha\\rho - \\alpha\\gamma + \\alpha\\gamma\\rho +\\alpha\\rho       \\right]\n",
    "$$\n",
    "$$\n",
    "\\implies \\pi = \\frac{\\alpha\\rho\\bar{l}}{\\gamma - \\rho\\alpha}\n",
    "$$"
   ]
  },
  {
   "cell_type": "markdown",
   "metadata": {},
   "source": [
    "Therefore, note that the cutoff productivity can now be written as\n",
    "$$\n",
    "\\bar{x}^{\\gamma} = \\frac{\\mu\\gamma f}{\\alpha\\left[\\frac{\\alpha\\rho\\bar{l}}{\\gamma-\\rho\\alpha}+\\frac{(\\gamma-\\rho\\alpha)\\bar{l}}{\\gamma-\\rho\\alpha}\\right]\\left[\\gamma(1-\\rho)-\\rho\\right]}\n",
    "$$\n",
    "$$\n",
    "\\implies \\bar{x}^{\\gamma} = \\frac{\\mu\\gamma f}{\\alpha \\left[\\gamma(1-\\rho)-\\rho\\right]\\left[\\frac{\\gamma\\bar{l}}{\\gamma-\\rho\\alpha}\\right]}\n",
    "$$\n",
    "$$\n",
    "\\implies \\bar{x}^{\\gamma} = \\frac{\\mu f(\\gamma-\\rho\\alpha)}{\\alpha \\left[\\gamma(1-\\rho)-\\rho\\right]\\bar{l}}\n",
    "$$\n",
    "and finally the measure of firms who produce is given by\n",
    "$$\n",
    "\\hat{m} = \\mu\\left[F(\\infty)- F(\\bar{x})\\right]\n",
    "$$\n",
    "$$\n",
    "\\implies \\hat{m} = \\mu \\left[1-(1-\\bar{x}^{-\\gamma}) \\right]\n",
    "$$\n",
    "$$\n",
    "\\implies \\hat{m} = \\mu \\bar{x}^{-\\gamma}\n",
    "$$\n",
    "$$\n",
    "\\implies  \\hat{m} =  \\frac{\\alpha \\left[\\gamma(1-\\rho)-\\rho\\right]\\bar{l}}{ f(\\gamma-\\rho\\alpha)}\n",
    "$$\n"
   ]
  },
  {
   "cell_type": "markdown",
   "metadata": {},
   "source": [
    "#### ***(d)***"
   ]
  },
  {
   "cell_type": "markdown",
   "metadata": {},
   "source": [
    "***Suppose that now there are two countries that engage in trade. Each country, $i$, $i=1,2$, has a population of $\\bar{l_i}$ and a measure of potential firms $\\mu_i$. Firms' productivities are again distributed according to the Pareto distribution, $F(x) = 1-x^{-\\gamma}$. A firm in country $i$ faces a fixed cost of exporting to country $j$, $j\\neq i$, of $f_e$, where $f_e > f_d = f$. Each country also imposes an *ad valorem* tariff $\\tau$ on imports of differentiated goods from the other country. The revenues from these tarrifs is redistributed in lump-sum form to the consumer in that country. Define an equilibrium for this world economy.*** "
   ]
  },
  {
   "cell_type": "markdown",
   "metadata": {},
   "source": [
    "##### **Equilibrium**"
   ]
  },
  {
   "cell_type": "markdown",
   "metadata": {},
   "source": [
    "Given $\\{\\mu_i,\\bar{l}_i,\\tau_i   \\}_{i=1}^2$ an equilibrium for this world economy consists of \n",
    "* Measures of firms $\\{\\hat{m}_i \\}_{i=1}^2$\n",
    "* Consumer allocations $\\hat{\\mathcal{G}}^i = \\{\\hat{c}_0^i, \\{\\hat{c}^i(z)\\}_z\\}, \\forall i$\n",
    "* Prices $\\mathcal{P}^i = \\{\\hat{p}^i_0,\\{\\hat{p}^i(z)\\}_z,\\hat{w}^i,\\bar{P}^i          \\}, \\forall i$\n",
    "* Production plans $\\mathcal{Y}^i = \\{\\{\\hat{y}^i_0,  \\hat{l}^i_0\\},\\{\\hat{y}^i(z),  \\hat{l}^i(z)\\}_z ,   \\{\\{\\hat{y}^j_i(z),  \\hat{l}^j_i(z)\\}_j\\}_z   \\},\\forall i  $\n",
    "* Profits $\\pi^i = \\{\\{ \\hat{\\pi}^i(z) \\}_z\\}_i, \\forall i          $\n",
    "* Productivity levels $\\{\\bar{x}^i_d,  \\bar{x}^i_e     \\}_i, \\forall i     $\n",
    "* Tariff revenues $\\hat{\\mathcal{T}^i}, \\forall i     $\n",
    "such that:\n",
    "\n",
    "*(1)* Given $\\mathcal{P}^i$, $\\pi^i$, consumers in country $i$, $i=1,2$, choose  $\\mathcal{G}^i$ to solve:\n",
    "$$\n",
    "\\max_{\\mathcal{G}^i} (1-\\alpha) \\log(c^i_0) + \\frac{\\alpha}{\\rho}\\log \\int_{\\hat{a}^i}^{\\hat{b}^i} c^i(z)^{\\rho} dz\n",
    "$$\n",
    "$$\n",
    "s.t. \\quad \\hat{p}^i_0c^i_0 + \\int_{\\hat{a}^i}^{\\hat{b}^i} \\hat{p}^i(z)c^i(z) dz = \\hat{w}^i\\bar{l}^i + \\pi^i + \\hat{\\mathcal{T}^i}\n",
    "$$\n",
    "$$\n",
    "c^i(z) \\geq 0, \\forall z\n",
    "$$\n",
    "$$\n",
    "\\hat{m}^i = \\hat{b}^i - \\hat{a}^i\n",
    "$$\n",
    "\n",
    "*(2)* $\\{\\hat{w}^i,\\hat{p}^i_0\\}$ are such that producers of the agricultural good in country $i$, $i=1,2$ make zero profits\n",
    "$$\n",
    "\\hat{p}^i_0y^i_0 - \\hat{w}^il^i_0 \\leq 0 \n",
    "$$\n",
    "and note that this holds with equality if $y^i_0 > 0$.\n",
    "\n",
    "*(3)* Given $\\mathcal{P}^i$, producers of good $z$ in country $i$, $i=1,2$ with $x(z)\\geq \\bar{x}^i_d$ choose $\\hat{p}^i(z), \\hat{y}^i(z)$ and $ \\hat{l}^i(z)$ to solve\n",
    "$$\n",
    "\\hat{\\pi}_d^i(x(z))  = \\max_{\\{p^i(z), y^i(z), l^i(z)\\}} p^i(z)y^i(z) - \\frac{\\hat{w}^il^i(z)}{x(z)} - \\hat{w}^if_d, \n",
    "$$\n",
    "$$\n",
    "s.t. \\quad y^i(z) = \\frac{\\alpha\\left[\\hat{w}^i\\bar{l}^i + \\pi^i + \\hat{\\mathcal{T}^i} \\right]}{p^i(z)^{\\frac{1}{1-\\rho}}\\bar{P^i}^\\frac{\\rho}{\\rho-1}}, \\quad  y^i(z)\\leq l^i(z)\n",
    "$$\n",
    "and producers of good $z$ in country $i$, $i=1,2$ with $x(z)\\geq \\bar{x}^i_e$ choose $\\hat{p}^j_i(z), \\hat{y}^j_i(z)$ and $ \\hat{l}^j_i(z)$ to solve\n",
    "$$\n",
    "\\hat{\\pi}_e^i(x(z))  = \\max_{\\{p^j_i(z), y^j_i(z), l^j_i(z)\\}} p^j_i(z)y^j_i(z) - \\frac{\\hat{w}^i\\tau^i_il^j_i(z)}{x(z)} - \\hat{w}^if_e, \n",
    "$$\n",
    "$$\n",
    "s.t. \\quad y^j_i(z) = \\frac{\\alpha\\left[\\hat{w}^j\\bar{l}^j + \\pi^j +\\hat{\\mathcal{T}^j} \\right]}{p^j_i(z)^{\\frac{1}{1-\\rho}}\\bar{P^j}^\\frac{\\rho}{\\rho-1}}, \\quad y^j_i(z) \\leq l^j_i(z)\n",
    "$$\n",
    "and, $\\pi_d(\\bar{x}^i_d) = \\pi_e(\\bar{x}^i_e) = 0$.\n",
    "\n",
    "*(4)* The measure of firms producing for consumers in country $i$ is given by\n",
    "$$\n",
    "\\hat{m}^i = \\mu_i\\int_{\\bar{x}_d^i}^{\\infty} dF(x) + \\mu_j\\int_{\\bar{x}_e^j}^{\\infty} dF(x)\n",
    "$$\n",
    "\n",
    "*(5)* Markets clear\n",
    "$$\n",
    "\\hat{c}_0^i = \\hat{y}^i_0 = \\hat{l}^i_0, \\forall i \n",
    "$$\n",
    "$$\n",
    "\\hat{c}^i(z)  = \\hat{y}^i(z) = \\hat{l}^i(z), \\quad x(z) \\geq \\bar{x}^i_d, \\quad \\forall i \n",
    "$$\n",
    "$$\n",
    "\\hat{c}^j_i(z)  = \\hat{y}^j_i(z) = \\hat{l}^j_i(z), \\quad x(z) \\geq \\bar{x}^i_e ,\\quad \\forall i,j \n",
    "$$\n",
    "$$\n",
    "\\hat{l}^i_0 + \\mu^i \\left[\\int_{\\bar{x}^i_d}^{\\infty}\\hat{l}^i(z) dz +  \\int_{\\bar{x}^i_e}^{\\infty}\\hat{l}^j_i(z) dz      \\right] = \\bar{l}^i, \\forall i\n",
    "$$\n",
    "\n",
    "*(6)* Government budget balances $\\forall i$. That is,\n",
    "$$\n",
    "\\hat{\\mathcal{T}^i} = \\mu^j\\int_{\\bar{x}^j_e }^{\\infty} (\\tau^i_j-1)\\hat{w}^j \\frac{\\hat{y}^i_j(z)}{x} dF(x)\n",
    "$$\n"
   ]
  },
  {
   "cell_type": "markdown",
   "metadata": {},
   "source": [
    "#### ***(e)***"
   ]
  },
  {
   "cell_type": "markdown",
   "metadata": {},
   "source": [
    "***Suppose that the two countries in *(d)* are symmetric in the sense that $\\bar{l_i} = \\bar{l}, \\forall i$, and $\\mu_i = \\mu, \\forall i$. Explain how to characterise the equilibrium production patterns with a cutoff value, or values, as in *(c)*. Compare this value, or these values, with *(c)*. Draw a graph depicting what happens when a closed economy opens to trade.***"
   ]
  },
  {
   "cell_type": "markdown",
   "metadata": {},
   "source": [
    "In order to solve for the two-country equilibrium, we first solve the firm's problems for their optimal pricing rules\n",
    "$$\n",
    "\\hat{p}^i(x)=\\frac{\\hat{w}^i}{\\rho x}\n",
    "$$\n",
    "$$\n",
    "\\hat{p}^j_i(x)=\\frac{\\hat{w}^i\\tau_i^j}{\\rho x}\n",
    "$$\n",
    "for $\\forall i$, and then use these to find the country $i$ price index, which is given by\n",
    "$$\n",
    "\\bar{P^i} = \\left[\\mu \\int_{\\bar{x}^i_d}^{\\infty} \\hat{p}^i(x)^{\\frac{\\rho}{\\rho-1}}  dF(x) +   \\mu \\int_{\\bar{x}^j_e}^{\\infty} \\hat{p}^i_j(x)^{\\frac{\\rho}{\\rho-1}}dF(x) \\right]^{\\frac{\\rho-1}{\\rho}}.\n",
    "$$\n",
    "again noting that we must solve for the price index in all countries. Next, use the price indexes to find the demand functions which are given by\n",
    "$$\n",
    "c^i(z) = \\frac{\\alpha\\left[\\hat{w}^i\\bar{l}^i + \\pi^i + \\hat{\\mathcal{T}^i} \\right]}{p^i(z)^{\\frac{1}{1-\\rho}}\\bar{P^i}^\\frac{\\rho}{\\rho-1}}\n",
    "$$\n",
    "$$\n",
    "c^j_i(z) = \\frac{\\alpha\\left[\\hat{w}^j\\bar{l}^j + \\pi^j +\\hat{\\mathcal{T}^j} \\right]}{p^j_i(z)^{\\frac{1}{1-\\rho}}\\bar{P^j}^\\frac{\\rho}{\\rho-1}}\n",
    "$$\n",
    "and then find the cutoff productivities using the zero-profit conditions\n",
    "$$\n",
    "\\hat{p}^i(\\bar{x}^i_d)\\hat{c}^i(\\bar{x}^i_d)-\\frac{\\hat{w}^i\\hat{c}^i(\\bar{x}^i_d)}{\\bar{x}^i_d}-\\hat{w}^if_d = 0\n",
    "$$\n",
    "$$\n",
    "\\hat{p}^j_i(\\bar{x}^i_e)\\hat{c}^j_i(\\bar{x}^i_e)-\\frac{\\hat{w}^i\\hat{c}^j_i(\\bar{x}^i_e)\\tau^j_i}{\\bar{x}^i_e}-\\hat{w}^jf_e = 0\n",
    "$$\n",
    "and then, once you have this, solve the following equations for profits and tariff revenue in country $i$\n",
    "$$\n",
    "\\pi^i = \\mu\\gamma \\int_{\\bar{x}^i_d}^{\\infty} \\left[\\hat{p}^i(x)\\hat{c}^i(x)-\\frac{\\hat{w}^i\\hat{c}^i(x)}{x}-\\hat{w}^if_d\\right]x^{-\\gamma-1} dx + \\mu\\gamma \\int_{\\bar{x}^i_e}^{\\infty} \\left[\\hat{p}^j_i(x)\\hat{c}^j_i(x)-\\frac{\\hat{w}^i\\hat{c}^j_i(x)\\tau^j_i}{x}-\\hat{w}^if_e \\right]x^{-\\gamma-1} dx\n",
    "$$\n",
    "$$\n",
    "\\mathcal{T}^i =\\mu \\int_{\\bar{x}^j_e}^{\\infty} (\\tau_i^j - 1)\\hat{w}^j\\frac{\\hat{y}^i_j(x)}{x}  dF(x)\n",
    "$$\n",
    "at which point you can then solve the model."
   ]
  },
  {
   "cell_type": "markdown",
   "metadata": {},
   "source": [
    "#### ***(f)***"
   ]
  },
  {
   "cell_type": "markdown",
   "metadata": {},
   "source": [
    "***Discuss the strengths and limitations of this sort of model in accounting for firm-level data on exports.***"
   ]
  },
  {
   "cell_type": "markdown",
   "metadata": {},
   "source": [
    "##### **Pros**"
   ]
  },
  {
   "cell_type": "markdown",
   "metadata": {},
   "source": [
    "* *Tractable model which allows for firms to be heterogeneous in producitivity and size*"
   ]
  },
  {
   "cell_type": "markdown",
   "metadata": {},
   "source": [
    "* *Firms face an endogenous export decision*"
   ]
  },
  {
   "cell_type": "markdown",
   "metadata": {},
   "source": [
    "##### **Cons**"
   ]
  },
  {
   "cell_type": "markdown",
   "metadata": {},
   "source": [
    "* *Exporters are always larger than firms who only produce for the domestic market*"
   ]
  },
  {
   "cell_type": "markdown",
   "metadata": {},
   "source": [
    "* *Firms cannot export without also producing for the domestic market*"
   ]
  }
 ],
 "metadata": {
  "kernelspec": {
   "display_name": "Julia 1.10.1",
   "language": "julia",
   "name": "julia-1.10"
  },
  "language_info": {
   "file_extension": ".jl",
   "mimetype": "application/julia",
   "name": "julia",
   "version": "1.10.1"
  }
 },
 "nbformat": 4,
 "nbformat_minor": 2
}
