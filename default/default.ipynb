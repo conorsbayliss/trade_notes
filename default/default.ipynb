{
 "cells": [
  {
   "cell_type": "markdown",
   "metadata": {},
   "source": [
    "# **Cole-Kehoe Notes**"
   ]
  },
  {
   "cell_type": "markdown",
   "metadata": {},
   "source": [
    "## *Conor Bayliss*"
   ]
  },
  {
   "cell_type": "markdown",
   "metadata": {},
   "source": [
    "### **Spring 2024**"
   ]
  },
  {
   "cell_type": "markdown",
   "metadata": {},
   "source": [
    "***Consider a small open economy whose goernment borrows from international lenders. In every period, the value of output is***\n",
    "$$\n",
    "y(z) = Z^{1-z}\\bar{y}\n",
    "$$\n",
    "***where $1>Z>0$ is a constant and $z=0$ if the government defaults in that period or has defualted in the past and $\\bar{y}$ is a constant. The government's tax revenue is $\\theta y(z)$ where the tax rate is $1>\\theta>0$ is constant. The consumers in the economy consume $c=(1-\\theta)y(z)$. The government is benevolent and makes choices to maximise the expected discounted value of***\n",
    "$$\n",
    "u(c,g) = \\log(c) + \\gamma \\log(g)\n",
    "$$\n",
    "***where $\\gamma>0$ and $1>\\beta>0$ is the discount factor.***\n",
    "\n",
    "***At the beginning of every period, the state of the economy is $s = (B,z_{-1},\\zeta)$ where $B$ is the level of government debt; $z_{-1} = 0$ indicates if the government has defaulted in the past, and $z_{-1} = 1$ if not, and $\\zeta \\sim U[0,1]$ is the realisation of the sunspot variable.***"
   ]
  },
  {
   "cell_type": "markdown",
   "metadata": {},
   "source": [
    "***The government first offers $B'$ to international bankers. The international bankers have the same discount factor $\\beta$ as the government. They are also risk neutral and have deep pockets. These international bankers buy the bonds at a competitive auction that determines a price for $B'$, $q(B',s)$. The government finally chooses to default or not, which determines private consumption, $c$. Government spending $g$ is determined by the government's budget constraint***\n",
    "$$\n",
    "q+zB = \\theta y(z) + q(B',s)B'.\n",
    "$$\n",
    "***If the government defaults, setting $z=0$, then assume that $z_{-1}=0$ implies $z=0$ thereafter; that is, the economy suffers from the default penalty $1-Z$ forever. Furthermore, $z_{-1}=0$ implies $q(B',s)=0$; that is, the government is permanently excluded from credit markets.***"
   ]
  },
  {
   "cell_type": "markdown",
   "metadata": {},
   "source": [
    "#### ***(a) Define a recursive equilibrium.***"
   ]
  },
  {
   "cell_type": "markdown",
   "metadata": {},
   "source": [
    "##### **Definition: Recursive Equilibrium**\n",
    "Let $s = (B,z_{-1},\\zeta)$ be the state of the economy. A recursive equilibrium consists of a Value function $V(s)$, policy functions $B'(s)$, $z(B',s,q)$ and $g(B',s,q)$ and a price function $q(B',s)$ such that:\n",
    "1. **Beginning of period:** Given price function $q(B',s)$ and policy functions $z(B's,q)$ and $g(B',s,q)$, $B'(s)$ is the $B'$ which solves:\n",
    "$$\n",
    "V(s) = \\max_{B'} \\{u(c,g)+\\beta \\mathbf{E}_s[V(s')]\\}\n",
    "$$\n",
    "$$\n",
    "s.t. \\quad c = (1-\\theta)y(z(B',s,q(B',s)))\n",
    "$$\n",
    "$$\n",
    "g(B',s,q(B',s)) + z(B',s,q(B',s))B = \\theta y(z(B',s,q(B',s))) + q(B',s)B'\n",
    "$$\n",
    "2. **Bond market clears:**\n",
    "$$\n",
    " q(B'(s),s) = \\beta \\mathbf{E}_s[z(B'(s'),s',q(B'(s'),s'))] \n",
    "$$\n",
    "3. **End of period:**\n",
    "Given value function $V(s)$, outstanding debt $B$, newly issued debt $B'(s) = B'$ and prices $q=q(B'(s),s)$, the policy functions $z=z(B',s,q)$ and $g=g(B',s,q)$ solve:\n",
    "$$\n",
    "\\max_{z,g} \\{\\log(c)+\\gamma\\log(g)+\\beta \\mathbf{E}_s[V(s')]\\}\n",
    "$$\n",
    "$$\n",
    "s.t. \\quad c = (1-\\theta)y(z)\n",
    "$$\n",
    "$$\n",
    "g+zB = \\theta y(z) + qB'\n",
    "$$\n",
    "$$\n",
    "z \\in \\{0,1\\}, \\quad z=0 \\quad \\text{if} \\quad z_{-1} = 0\n",
    "$$"
   ]
  },
  {
   "cell_type": "markdown",
   "metadata": {},
   "source": [
    "#### ***(b) Assume that bankers expect the government to default if $\\zeta>1-\\pi$ and if such, an expectation would be self-fulfilling, where $1\\geq \\pi \\geq 0$ is an arbitrary constant.***\n",
    "\n",
    "#### ***Find a level of debt $\\bar{b}$ such that, if $B\\leq\\bar{b}$, no default occurs in equilibrium, but that, if $B>\\bar{b}$, default occurs in equilibrium.***"
   ]
  },
  {
   "cell_type": "markdown",
   "metadata": {},
   "source": [
    "$\\bar{b}$ is the level of debt for which the government is indifferent between default and repaying all its debt and living in autarky forever. The value of default is \n",
    "$$\n",
    "\\frac{\\log((1-\\theta)Z\\bar{y})+\\gamma\\log(\\theta Z\\bar{y})}{1-\\beta}\n",
    "$$\n",
    "and the value of repaying all the debt today and living in autarky thereafter is\n",
    "$$\n",
    "\\log((1-\\theta)\\bar{y})+\\gamma\\log(\\theta\\bar{y} - \\bar{b})+\\frac{\\beta[\\log((1-\\theta)\\bar{y})+\\gamma\\log(\\theta y)]}{1-\\beta}.\n",
    "$$\n",
    "To find $\\bar{b}$, we must set the above expressions equal to each other and rearrange. So,\n",
    "$$\n",
    "\\frac{\\log((1-\\theta)Z\\bar{y})+\\gamma\\log(\\theta Z\\bar{y})}{1-\\beta} = \\log((1-\\theta)\\bar{y})+\\gamma\\log(\\theta\\bar{y} - \\bar{b})+\\frac{\\beta[\\log((1-\\theta)\\bar{y})+\\gamma\\log(\\theta \\bar{y})]}{1-\\beta}\n",
    "$$\n",
    "$$\n",
    "\\implies \\log((1-\\theta)Z\\bar{y})+\\gamma\\log(\\theta Z\\bar{y}) = (1-\\beta)\\log((1-\\theta)\\bar{y})+\\gamma(1-\\beta)\\log(\\theta\\bar{y} - \\bar{b})+\\beta[\\log((1-\\theta)\\bar{y})+\\gamma\\log(\\theta \\bar{y})]\n",
    "$$\n",
    "Then, rearranging the left-hand side\n",
    "$$\n",
    "\\log((1-\\theta)Z\\bar{y})+\\gamma\\log(\\theta Z\\bar{y}) = \\log((1-\\theta)Z\\bar{y})+\\log([\\theta Z\\bar{y}]^{\\gamma}) = \\log[(1-\\theta)Z\\bar{y}\\theta^{\\gamma}Z^{\\gamma}\\bar{y}^{\\gamma}] = \\log[(1-\\theta)\\theta^{\\gamma}Z^{1+\\gamma}\\bar{y}^{1+\\gamma}]\n",
    "$$\n",
    "Similarly, rearranging the right-hand side\n",
    "$$\n",
    "(1-\\beta)\\log((1-\\theta)\\bar{y})+\\gamma(1-\\beta)\\log(\\theta \\bar{y} - \\bar{b})+\\beta[\\log((1-\\theta)\\bar{y})+\\gamma\\log(\\theta \\bar{y})] = (1-\\beta)\\log((1-\\theta)\\bar{y})+\\beta\\log((1-\\theta)\\bar{y})+\\log([\\theta\\bar{y} - \\bar{b}]^{\\gamma(1-\\beta)})+\\log([\\theta \\bar{y}]^{\\gamma\\beta})\n",
    "$$\n",
    "so that we find\n",
    "$$\n",
    "\\log[(1-\\theta)\\theta^{\\gamma}Z^{1+\\gamma}\\bar{y}^{1+\\gamma}] = \\log((1-\\theta)\\bar{y})+\\log([\\theta \\bar{y} - \\bar{b}]^{\\gamma(1-\\beta)})+\\log([\\theta\\bar{y}]^{\\gamma\\beta})\n",
    "$$\n",
    "$$\n",
    "\\implies \\log[(1-\\theta)\\theta^{\\gamma}Z^{1+\\gamma}\\bar{y}^{1+\\gamma}] = \\log((1-\\theta)\\bar{y}[\\theta \\bar{y} - \\bar{b}]^{\\gamma(1-\\beta)}[\\theta \\bar{y}]^{\\gamma\\beta})\n",
    "$$\n",
    "$$\n",
    "\\implies (1-\\theta)\\theta^{\\gamma}Z^{1+\\gamma}\\bar{y}^{1+\\gamma} = (1-\\theta)\\bar{y}[\\theta \\bar{y} - \\bar{b}]^{\\gamma(1-\\beta)}[\\theta \\bar{y}]^{\\gamma\\beta}\n",
    "$$\n",
    "$$\n",
    "\\implies \\theta^{\\gamma}Z^{1+\\gamma}\\bar{y}^{\\gamma} = Z^{1+\\gamma}[\\theta\\bar{y}]^{\\gamma} = [\\theta \\bar{y} - \\bar{b}]^{\\gamma(1-\\beta)}[\\theta \\bar{y}]^{\\gamma\\beta}\n",
    "$$\n",
    "$$\n",
    "\\implies Z^{1+\\gamma} = [\\theta \\bar{y} - \\bar{b}]^{\\gamma(1-\\beta)}[\\theta \\bar{y}]^{\\gamma\\beta-\\gamma} = [\\theta \\bar{y} - \\bar{b}]^{\\gamma(1-\\beta)}[\\theta\\bar{y}]^{\\gamma(\\beta-1)}=\\left[\\frac{\\theta \\bar{y}- \\bar{b}}{\\theta \\bar{y}}\\right]^{\\gamma(1-\\beta)}\n",
    "$$\n",
    "$$\n",
    "\\implies Z^{\\frac{1+\\gamma}{\\gamma(1-\\beta)}} = \\frac{\\theta \\bar{y}- \\bar{b}}{\\theta \\bar{y}}\n",
    "$$\n",
    "$$\n",
    "\\implies \\theta \\bar{y}Z^{\\frac{1+\\gamma}{\\gamma(1-\\beta)}} = \\theta \\bar{y} - \\bar{b}\n",
    "$$\n",
    "$$\n",
    "\\implies \\bar{b} = \\theta \\bar{y} [1 -  Z^{\\frac{1+\\gamma}{\\gamma(1-\\beta)}}]\n",
    "$$"
   ]
  },
  {
   "cell_type": "markdown",
   "metadata": {},
   "source": [
    "#### ***(c) Suppose that $B_0>\\bar{b}$, and the government chooses to run down its debt to $B_T\\leq\\bar{b}$ in $T$ periods. Prove that it cannot be optimal to set $B_T<\\bar{b}$.***\n",
    "\n",
    "#### ***Prove that it is optimal for the government to set $g_t$ constant as long as $B_t>\\bar{b}$ and no crisis occurs.***\n",
    "#### ***Find expressions for $g_t$ and $B_t$ that depend on $B_0$ and $T$.***\n",
    "#### ***Find an expression for the expected discounted value of the utility of runnning down the debt that starts at $B_0$ to $\\bar{b}$ in $T$ periods.*** \n",
    "#### ***Find the limit of these expressions when $T\\rightarrow\\infty$.***"
   ]
  },
  {
   "cell_type": "markdown",
   "metadata": {},
   "source": [
    "First, let us characterise the bond pricing function. To do so, recall from above that the government does not default $B\\leq \\bar{b}$. Hence, \n",
    "$$\n",
    "q(B,s) = \\beta \\mathbf{E}[z'] = \\beta.\n",
    "$$\n",
    "Now, postulate the existence of a level of debt $\\bar{B}(\\pi)$ for which the government will always choose to default if $B>\\bar{B}(\\pi)$. In such a case,\n",
    "$$\n",
    "q(B,s) = \\beta \\mathbf{E}[z'] = 0.\n",
    "$$\n",
    "Lastly, consider a intermediate level of debt $B\\in(\\bar{b},\\bar{B}(\\pi) \\mathclose]$. In such a case, the government will repay in the case of the good sunspot, which occurs with probability $(1-\\pi)$. So,\n",
    "$$\n",
    "q(B,s) = \\beta \\mathbf{E}[z'] = \\beta(1-\\pi).\n",
    "$$\n",
    "Therefore, we have\n",
    "$$\n",
    "q(B,s) = \\begin{cases}\n",
    "\\beta, & \\text{if}\\quad B\\leq\\bar{b} \\\\\n",
    "\\beta(1-\\pi), & \\text{if} \\quad B \\in (b, \\bar{B}(\\pi)\\mathclose] \\\\\n",
    "0, & \\text{if} \\quad B > \\bar{B}(\\pi). \\\\\n",
    "\\end{cases}\n",
    "$$"
   ]
  },
  {
   "cell_type": "markdown",
   "metadata": {},
   "source": [
    "Now, let us first show that, if $B_t\\leq\\bar{b}$, the government will keep spending constant. That is, $g_t, g_{t+1}, ... = \\bar{g}$. The government solves the following problem\n",
    "$$\n",
    "\\sum_t \\beta^t [\\log((1-\\theta)\\bar{y})+\\gamma\\log(g_t)],\n",
    "$$\n",
    "$$\n",
    "s.t. \\quad g_t + z_tB_t = \\theta\\bar{y} + \\beta B_{t+1}\n",
    "$$\n",
    "and we note that $z_t = 1, \\forall t$ since we are in the safe zone. So,\n",
    "$$\n",
    "[g_t]: \\frac{\\beta^t \\gamma}{g_t} = \\lambda_t\n",
    "$$\n",
    "$$\n",
    "[B_{t+1}]: \\beta \\lambda_t = \\lambda_{t+1}\n",
    "$$\n",
    "and so\n",
    "$$\n",
    "g_t = g_{t+1} = \\bar{g}\n",
    "$$\n",
    "So, we now claim that the government's optimal policy is to set $B_T = \\bar{b}$. To show this, consider a government at debt level $\\tilde{B}_{T-1}>\\bar{b}$. Compare $\\tilde{B}_{T} < \\bar{b}$ with  $\\hat{B}_{T} = \\bar{b}$.\n",
    "$$\n",
    "\\tilde{g}_T = \\beta\\tilde{B}_{T} - \\tilde{B}_{T-1} + \\theta\\bar{y}, \\quad \\hat{g}_T = \\beta\\hat{B}_{T} - \\tilde{B}_{T-1} + \\theta\\bar{y} = \\beta\\bar{b} - \\tilde{B}_{T-1} + \\theta\\bar{y}\n",
    "$$\n",
    "$$\n",
    "\\implies \\hat{g}_T - \\tilde{g}_T = \\beta(\\bar{b}-\\tilde{B}_T) > 0\n",
    "$$\n",
    "and so, since utility is increasing in $g$, it must be that the $\\hat{B}_{T} = \\bar{b}$ policy dominates the $\\tilde{B}_{T}<\\bar{b}$ policy."
   ]
  },
  {
   "cell_type": "markdown",
   "metadata": {},
   "source": [
    "Now, consider a debt level $B_0 = \\mathopen(\\bar{b}, \\bar{B}(\\pi) \\mathclose]$. We need to show that the government will want to keep spending whilst inside the crisis zone. To do so, recall that the government's budget constraint is:\n",
    "$$\n",
    "g+zB = \\theta y(\\bar{z})+q(B',s)B'.\n",
    "$$\n",
    "In the crisis zone, the probability of repayment is $1-\\pi$ and so $\\mathbf{E}z'=(1-\\pi)$. By the bond price schedule, we know $q(B',s) = \\beta(1-\\pi)$ and so the budget constraint becomes\n",
    "$$\n",
    "g+zB = \\theta \\bar{y} + \\beta(1-\\pi)B'.\n",
    "$$\n",
    "Consider the sequence form of the problem:\n",
    "$$\n",
    "\\sum_t \\beta^t [\\log((1-\\theta)\\bar{y}) + \\gamma \\log(g_t)]\n",
    "$$\n",
    "$$\n",
    "s.t. \\quad g_t + z_tB_t = \\theta \\bar{y} + \\beta(1-\\pi)B_{t+1}, \\quad (\\mu_t)\n",
    "$$\n",
    "and so the first-order conditions are\n",
    "$$\n",
    "[g_t]: \\frac{\\beta^t \\gamma}{g_t} = \\mu_t, \\quad [B_{t+1}]: \\mu_t \\beta(1-\\pi) = \\mu_{t+1}\\mathbf{E}z_{t+1} = \\mu_{t+1}(1-\\pi)\n",
    "$$\n",
    "which implies\n",
    "$$\n",
    "\\frac{1}{g_t} = \\frac{1}{g_{t+1}} \\implies g_t = g_{t+1} = \\bar{g}\n",
    "$$\n",
    "and hence the government would like to keep spending constant inside the crisis zone if no crisis occurs.\n"
   ]
  },
  {
   "cell_type": "markdown",
   "metadata": {},
   "source": [
    "Assume that the government exits the crisis zone in T periods without a crisis. The sequence of budget constraints is:\n",
    "$$\n",
    "B_0 + g^T(B_0) = \\theta \\bar{y} + \\beta(1-\\pi)B_1 \\quad (t=0)\n",
    "$$\n",
    "$$\n",
    "B_1 + g^T(B_0) = \\theta \\bar{y} + \\beta(1-\\pi)B_2 \\quad (t=1)\n",
    "$$\n",
    "$$\n",
    "B_2 + g^T(B_0) = \\theta \\bar{y} + \\beta(1-\\pi)B_3 \\quad (t=2)\n",
    "$$\n",
    "$$\n",
    "...\n",
    "$$\n",
    "$$\n",
    "B_{T-1} + g^T(B_0) = \\theta \\bar{y} + \\beta B_T \\quad (t=T-1)\n",
    "$$\n",
    "since $B_T$ is in the safe zone. Multiply each constraint by $[\\beta(1-\\pi)]^t$ for the corresponding $t$. We therefore obtain:\n",
    "$$\n",
    "B_0 + g^T(B_0) = \\theta \\bar{y} + \\beta(1-\\pi)B_1 \\quad (t=0)\n",
    "$$\n",
    "$$\n",
    "B_1[\\beta(1-\\pi)] + g^T(B_0)[\\beta(1-\\pi)] = \\theta \\bar{y}[\\beta(1-\\pi)] + [\\beta(1-\\pi)]^2B_2 \\quad (t=1)\n",
    "$$\n",
    "$$\n",
    "B_2[\\beta(1-\\pi)]^2 + g^T(B_0)[\\beta(1-\\pi)]^2 = \\theta \\bar{y}[\\beta(1-\\pi)]^2 + [\\beta(1-\\pi)]^3B_3 \\quad (t=2)\n",
    "$$\n",
    "$$\n",
    "...\n",
    "$$\n",
    "$$\n",
    "B_{T-1}[\\beta(1-\\pi)]^{T-1} + g^T(B_0)[\\beta(1-\\pi)]^{T-1} = \\theta \\bar{y}[\\beta(1-\\pi)]^{T-1} + [\\beta(1-\\pi)]^{T-1}\\beta B_T \\quad (t=T-1).\n",
    "$$\n",
    "Now, sum the budget constraints\n",
    "$$\n",
    "\\sum_{t=0}^{T-1}B_{t}[\\beta(1-\\pi)]^{t} + g^T(B_0)\\sum_{t=0}^{T-1}[\\beta(1-\\pi)]^{t} =  \\theta \\bar{y}\\sum_{t=0}^{T-1}[\\beta(1-\\pi)]^{t} + \\sum_{t=1}^{T-1}B_{t}[\\beta(1-\\pi)]^{t} + [\\beta(1-\\pi)]^{T-1}\\beta B_T\n",
    "$$\n",
    "and, rewriting\n",
    "$$\n",
    "B_0 + \\sum_{t=1}^{T-1}B_{t}[\\beta(1-\\pi)]^{t} + g^T(B_0)\\sum_{t=0}^{T-1}[\\beta(1-\\pi)]^{t} =  \\theta \\bar{y}\\sum_{t=0}^{T-1}[\\beta(1-\\pi)]^{t} + \\sum_{t=1}^{T-1}B_{t}[\\beta(1-\\pi)]^{t} + [\\beta(1-\\pi)]^{T-1}\\beta B_T\n",
    "$$\n",
    "$$\n",
    "\\implies B_0 +  g^T(B_0)\\sum_{t=0}^{T-1}[\\beta(1-\\pi)]^{t} =  \\theta \\bar{y}\\sum_{t=0}^{T-1}[\\beta(1-\\pi)]^{t} + [\\beta(1-\\pi)]^{T-1}\\beta B_T.\n",
    "$$\n",
    "From our results above, it must be that $B_T= \\bar{b}$. Also, remember that $\\sum_{s=0}^t ar^s = a\\left(\\frac{1-r^t}{1-r}\\right)$ for a geometric series. So, we can rewrite the above as\n",
    "$$\n",
    "B_0 + g^T(B_0)\\left[\\frac{1-[\\beta(1-\\pi)]^{T}}{1-\\beta(1-\\pi)}\\right] =  \\theta \\bar{y}\\left[\\frac{1-[\\beta(1-\\pi)]^{T}}{1-\\beta(1-\\pi)}\\right]+ [\\beta(1-\\pi)]^{T-1}\\beta \\bar{b}\n",
    "$$\n",
    "and so, rearranging for government spending, we find\n",
    "$$\n",
    "g^T(B_0) = \\theta \\bar{y} - \\left[\\frac{1-\\beta(1-\\pi)}{1-[\\beta(1-\\pi)]^{T}}\\right]\\left[B_0 - [\\beta(1-\\pi)]^{T-1}\\beta \\bar{b} \\right].\n",
    "$$\n",
    "Finally, observe that, if $T\\rightarrow\\infty$ then we find\n",
    "$$\n",
    "g^{\\infty}(B_0) = \\lim_{T\\rightarrow\\infty}g^T(B_0) = \\theta \\bar{y} - [1-\\beta(1-\\pi)]B_0.\n",
    "$$\n",
    "Now, we compute the expected discounted value of running down the debt from $B_0$ to $\\bar{b}$ in $T$ periods.\n",
    "$$\n",
    "V^T(B_0) = \\left[1+\\beta(1-\\pi)+[\\beta(1-\\pi)]^2+...+[\\beta(1-\\pi)]^{T-1}  \\right]\\left[\\log((1-\\theta)\\bar{y})+\\gamma\\log(g^T(B_0))\\right] \\\\\n",
    "\\quad+ \\left[1+\\beta(1-\\pi)+[\\beta(1-\\pi)]^2+...+[\\beta(1-\\pi)]^{T-2}  \\right] \\frac{\\beta\\pi}{1-\\beta}\\left[\\log((1-\\theta)Z\\bar{y})+\\gamma\\log(\\theta Z \\bar{y})\\right] \\\\\n",
    "\\quad+ [\\beta(1-\\pi)]^{T-1} \\frac{\\beta}{1-\\beta}\\left[\\log((1-\\theta)\\bar{y})+\\gamma\\log(\\theta\\bar{y}-(1-\\beta)\\bar{b})\\right]\n",
    "$$\n",
    "Again, using the structure of geometric series, we find\n",
    "$$\n",
    "V^T(B_0) = \\left[\\frac{1-[\\beta(1-\\pi)]^{T}}{1-\\beta(1-\\pi)}\\right]\\left[\\log((1-\\theta)\\bar{y})+\\gamma\\log(g^T(B_0))\\right] \\\\\n",
    "\\quad + \\left[\\frac{1-[\\beta(1-\\pi)]^{T-1}}{1-\\beta(1-\\pi)}\\right]\\left[\\frac{\\beta\\pi}{1-\\beta}\\right]\\left[\\log((1-\\theta)Z\\bar{y})+\\gamma\\log(\\theta Z \\bar{y})\\right]\\\\\n",
    "\\quad+ [\\beta(1-\\pi)]^{T-1} \\frac{\\beta}{1-\\beta}\\left[\\log((1-\\theta)\\bar{y})+\\gamma\\log(\\theta\\bar{y}-(1-\\beta)\\bar{b})\\right].\n",
    "$$\n",
    "As with government spending, if we left $T\\rightarrow\\infty$, we see\n",
    "$$\n",
    "V ^{\\infty}(B_0)=\\lim_{T\\rightarrow\\infty}V^T(B_0)=\\left[\\frac{1}{1-\\beta(1-\\pi)}\\right]\\left[\\log((1-\\theta)\\bar{y})+\\gamma\\log(g^T(B_0))\\right] \\\\\n",
    "+ \\left[\\frac{1}{1-\\beta(1-\\pi)}\\right]\\left[\\frac{\\beta\\pi}{1-\\beta}\\right]\\left[\\log((1-\\theta)Z\\bar{y})+\\gamma\\log(\\theta Z \\bar{y})\\right].\\\\\n",
    "$$"
   ]
  },
  {
   "cell_type": "markdown",
   "metadata": {},
   "source": [
    "#### ***(d) Using the above, write down a formula that determines a value of debt $\\bar{B}(\\pi)$ such that the government would choose to default if $B>\\bar{B}(\\pi)$ even if international bankers do not expect a default.***"
   ]
  },
  {
   "cell_type": "markdown",
   "metadata": {},
   "source": [
    "We determine $\\bar{B}(\\pi)$ by the point of indifference between repayment \\& the best one-shot deviation:\n",
    "$$\n",
    "V(\\bar{B}(\\pi)) = \\max_t[V^t(B_0)] = \\log[(1-\\theta)Z\\bar{y}]+\\gamma\\log[\\theta Z \\bar{y}+\\beta(1-\\pi)\\bar{B}(\\pi)] + \\frac{\\beta}{1-\\beta}\\{\\log[(1-\\theta)Z\\bar{y}]+\\gamma\\log[\\theta Z \\bar{y}]\\}\n",
    "$$\n",
    "Hence, the value of repayment is\n",
    "$$\n",
    "V(B,1,\\zeta) = \\begin{cases}\n",
    "\\frac{\\log[(1-\\theta)\\bar{y}]+\\gamma\\log[\\theta\\bar{y}-(1-\\beta)B]}{1-\\beta}, \\quad \\text{if} \\quad B\\leq \\bar{b} \\\\\n",
    "\\max_t[V^t(B)], \\quad \\text{if} \\quad B\\in \\mathopen(\\bar{b},\\bar{B}(\\pi) \\mathclose] \\quad \\wedge \\quad \\zeta \\leq 1-\\pi \\\\\n",
    "\\frac{\\log[(1-\\theta)Z\\bar{y}]+\\gamma\\log[\\theta Z\\bar{y}]}{1-\\beta}\\quad \\text{if} \\quad B\\in \\mathopen(\\bar{b},\\bar{B}(\\pi) \\mathclose] \\quad \\wedge \\quad \\zeta > 1-\\pi \\\\\n",
    "\\frac{\\log[(1-\\theta)Z\\bar{y}]+\\gamma\\log[\\theta Z\\bar{y}]}{1-\\beta}\\quad \\text{if} \\quad B>\\bar{B}(\\pi)\\\\\n",
    "\\end{cases}\n",
    "$$\n",
    "and ofcourse the value in default is\n",
    "$$\n",
    "V(B,0,\\zeta) = \\frac{\\log[(1-\\theta)Z\\bar{y}]+\\gamma\\log[\\theta Z\\bar{y}]}{1-\\beta}\n",
    "$$\n",
    "since default is an absorbing state."
   ]
  },
  {
   "cell_type": "markdown",
   "metadata": {},
   "source": [
    "#### ***(e) Using the above, construct a recursive equilibrium.***"
   ]
  },
  {
   "cell_type": "markdown",
   "metadata": {},
   "source": [
    "##### **Definition: Recursive Equilibrium**\n",
    "Let $s = (B,z_{-1},\\zeta)$ be the state of the economy. A recursive equilibrium consists of a Value function $V(s)$, policy functions $B'(s)$, $z(B',s,\\hat{q})$ and $g(B',s,\\hat{q})$ and a price function $\\hat{q}(B',s)$ such that, for initial debt $B_0$:\n",
    "1. Prices are given by:\n",
    "$$\n",
    "\\hat{q}(B',s) = \\begin{cases}\n",
    "\\beta, \\quad \\text{if} \\quad B'\\leq \\bar{b} \\\\\n",
    "\\beta(1-\\pi)\\quad \\text{if} \\quad B' \\in \\mathclose(\\bar{b}, \\bar{B}(\\pi)\\mathclose] \\\\\n",
    "0, \\quad \\text{otherwise}\n",
    "\\end{cases}\n",
    "$$\n",
    "2. Government spending is given by:\n",
    "$$\n",
    "g(B',s,\\hat{q}) = \\begin{cases}\n",
    "\\theta\\bar{y} - (1-\\beta)B', \\quad B' \\leq \\bar{b} \\\\\n",
    "g^T(B_0), \\quad T = \\max_{t}[V^t(B_0)],  B' \\in \\mathclose(\\bar{b}, \\bar{B}(\\pi)\\mathclose] \\\\\n",
    "\\theta Z \\bar{y}, \\quad \\text{otherwise}\n",
    "\\end{cases}\n",
    "$$\n",
    "3. Government borrowing is given by:\n",
    "$$\n",
    "B'(s) = \\begin{cases}\n",
    "B, \\quad B\\leq\\bar{b} \\\\\n",
    "\\frac{g^T(B_0)+B-\\theta \\bar{y}}{\\beta(1-\\pi)}, \\quad B' \\in \\mathclose(\\bar{b}, \\bar{B}(\\pi)\\mathclose]\\quad \\wedge \\quad \\zeta \\leq 1-\\pi \\\\\n",
    "0, \\quad \\text{otherwise}\n",
    "\\end{cases}\n",
    "$$\n",
    "4. and the government's default decision is given by:\n",
    "$$\n",
    "z(B',s,\\hat{q}) = \\begin{cases}\n",
    "1, \\quad B'\\leq \\bar{b}\\\\\n",
    "1, \\quad B' \\in \\mathclose(\\bar{b}, \\bar{B}(\\pi)\\mathclose]\\quad \\wedge \\quad \\zeta \\leq 1-\\pi \\\\\n",
    "0, \\quad B' \\in \\mathclose(\\bar{b}, \\bar{B}(\\pi)\\mathclose]\\quad \\wedge \\quad \\zeta > 1-\\pi \\\\\n",
    "0, \\quad B' > \\bar{B}(\\pi)\n",
    "\\end{cases}\n",
    "$$\n",
    "5. Value functions are as defined in the previous section."
   ]
  },
  {
   "cell_type": "markdown",
   "metadata": {},
   "source": [
    "#### ***(f) Use the model to interpret events of the Mexican financial crisis of December 1994 through January 1995. Discuss the strengths and weaknesses of this model.***"
   ]
  },
  {
   "cell_type": "markdown",
   "metadata": {},
   "source": [
    "##### **Pros**\n",
    "1. The timing of the default decision seems more natural.\n",
    "2. We could think of the Mexican financial crisis as $\\bar{b}<B\\leq\\bar{B}(pi)$ and $\\zeta>1-\\pi$ in our model; a self-fulfilling run.\n",
    "\n",
    "##### **Cons**\n",
    "1. No long-term bonds.\n",
    "2. Output is deterministic. In incomplete markets models, consumption smoothing can imply it is optimal to run up debt. Maybe extend the model to stochastic output. "
   ]
  }
 ],
 "metadata": {
  "kernelspec": {
   "display_name": "Julia 1.10.1",
   "language": "julia",
   "name": "julia-1.10"
  },
  "language_info": {
   "file_extension": ".jl",
   "mimetype": "application/julia",
   "name": "julia",
   "version": "1.10.1"
  }
 },
 "nbformat": 4,
 "nbformat_minor": 2
}
