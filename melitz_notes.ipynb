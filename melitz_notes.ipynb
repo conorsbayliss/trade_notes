{
 "cells": [
  {
   "cell_type": "markdown",
   "metadata": {},
   "source": [
    "# **Melitz Notes**"
   ]
  },
  {
   "cell_type": "markdown",
   "metadata": {},
   "source": [
    "## *Conor Bayliss*"
   ]
  },
  {
   "cell_type": "markdown",
   "metadata": {},
   "source": [
    "### **Spring 2024**"
   ]
  },
  {
   "cell_type": "markdown",
   "metadata": {},
   "source": [
    "Consider an economy where consumbers have Dixit-Stiglitz utility functions and solve the problem\n",
    "$$\n",
    "\\max_{\\{c_0.\\{c(z)\\}_z\\}} (1-\\alpha) \\log(c_0) + \\frac{\\alpha}{\\rho}\\log \\int_0^m c(z)^{\\rho} dz\n",
    "$$\n",
    "$$\n",
    "s.t. \\quad p_0c_0 + \\int_0^m p(z)c(z) dz = w\\bar{l} + \\pi\n",
    "$$\n",
    "$$\n",
    "c(z) \\geq 0\n",
    "$$"
   ]
  },
  {
   "cell_type": "markdown",
   "metadata": {},
   "source": [
    "Here, $1>\\alpha>0$ and $1>\\rho>0$. Furthermore, $m>0$ is the measure of firms, which is determined in equilibrium. The measure of potential forms in fixed at $\\mu>0$. Suppose that good 0 is produced with the constant-returns production function $y_0 = l_0$."
   ]
  },
  {
   "cell_type": "markdown",
   "metadata": {},
   "source": [
    "#### *(a)*"
   ]
  },
  {
   "cell_type": "markdown",
   "metadata": {},
   "source": [
    "*Suppose that the producer of good $z$ takes the prices $p(z')$, for $z'\\neq z$ as given. Suppose too that this producer has the production function*\n",
    "$$\n",
    "y(z) = \\max[x(z)(l(z)-f),0],\n",
    "$$\n",
    "*where $x(z)>0$ is the firm's productivity level and $f>0$. Solve the firm's profit maximisation problem to derive and optimal pricing rule.*"
   ]
  },
  {
   "cell_type": "markdown",
   "metadata": {},
   "source": [
    "Set up the Lagrangian\n",
    "$$\n",
    "\\mathcal{L} = (1-\\alpha) \\log(c_0) + \\frac{\\alpha}{\\rho}\\log \\int_0^m c(z)^{\\rho} dz + \\lambda \\left[\\pi + w\\bar{l} - p_0c_0 - \\int_0^m p(z)c(z) dz\\right]\n",
    "$$\n",
    "and take first-order conditions\n",
    "$$\n",
    "[c_0]: \\frac{1-\\alpha}{c_0} = \\lambda p_0\n",
    "$$\n",
    "$$\n",
    "[c(z)]: \\frac{\\alpha c(z)^{\\rho-1}}{\\int_0^m c(z)^{\\rho}dz} = \\lambda p(z)\n",
    "$$\n",
    "$$\n",
    "[c(z')]: \\frac{\\alpha c(z')^{\\rho-1}}{\\int_0^m c(z)^{\\rho}dz} = \\lambda p(z').\n",
    "$$\n",
    "Using the first-order conditions on the two different varieties, we see\n",
    "$$\n",
    "c(z) = \\left[\\frac{p(z')}{p(z)} \\right]^{\\frac{1}{1-\\rho}}c(z')\n",
    "$$\n",
    "and then, plugging this condition back into the consumption aggregator, we find\n",
    "$$\n",
    "\\int_0^m c(z)^{\\rho}dz = \\int_0^m p(z')^{\\frac{\\rho}{1-\\rho}}p(z)^{\\frac{\\rho}{\\rho-1}}c(z')dz\n",
    "$$\n",
    "$$\n",
    "\\implies c(z')^{\\rho}p(z')^{\\frac{\\rho}{1-\\rho}}\\int_0^m p(z)^\\frac{\\rho}{\\rho-1}dz\n",
    "$$\n",
    "and then define our price index as\n",
    "$$\n",
    "\\bar{P} = \\left[ \\int_0^m p(z)^{\\frac{\\rho}{\\rho-1}}dz \\right]^{\\frac{\\rho-1}{\\rho}}\n",
    "$$\n",
    "and so, we find\n",
    "$$\n",
    "\\int_0^m c(z)^{\\rho}dz = c(z')^{\\rho}p(z')^{\\frac{\\rho}{1-\\rho}} \\bar{P}^{\\frac{\\rho}{\\rho-1}}.\n",
    "$$"
   ]
  },
  {
   "cell_type": "markdown",
   "metadata": {},
   "source": [
    "Now, return to the first-order condition on $c(z)$. Notice that,\n",
    "$$\n",
    "\\frac{\\alpha c(z)^{\\rho-1}}{\\int_0^m c(z)^{\\rho}dz} = \\lambda p(z) \n",
    "$$\n",
    "$$\n",
    "\\implies \\frac{\\alpha c(z)^{\\rho}}{\\int_0^m c(z)^{\\rho}dz} = \\lambda p(z)c(z) \n",
    "$$\n",
    "and then subsituting in the relationship we found above, we obtain\n",
    "$$\n",
    "\\frac{\\alpha c(z)^{\\rho}}{c(z)^{\\rho}p(z)^{\\frac{\\rho}{1-\\rho}} \\bar{P}^{\\frac{\\rho}{\\rho-1}}} = \\lambda p(z)c(z) \n",
    "$$\n",
    "$$\n",
    "\\implies \\frac{\\alpha}{p(z)^{\\frac{\\rho}{1-\\rho}}\\bar{P}^{\\frac{\\rho}{\\rho-1}}} = \\lambda p(z)c(z)\n",
    "$$\n",
    "$$\n",
    "\\implies \\frac{\\alpha}{p(z)^{\\frac{\\rho}{1-\\rho}}\\bar{P}^{\\frac{\\rho}{\\rho-1}}} = \\frac{(1-\\alpha)}{p_0c_0} p(z)c(z)\n",
    "$$\n",
    "where the second equality is from the first-order condition on good $0$. So, \n",
    "$$\n",
    "\\alpha p_0c_0 \\bar{P}^{\\frac{\\rho}{1-\\rho}}p(z)^{\\frac{\\rho}{\\rho-1}} = (1-\\alpha) p(z)c(z).\n",
    "$$\n",
    "Then, summing over all varieties we have\n",
    "$$\n",
    "\\alpha p_0c_0 \\bar{P}^{\\frac{\\rho}{1-\\rho}} \\int_0^m p(z)^{\\frac{\\rho}{\\rho-1}} dz = (1-\\alpha) \\int_0^m p(z)c(z)dz\n",
    "$$\n",
    "and so\n",
    "$$\n",
    "\\alpha p_0c_0 = (1-\\alpha) \\int_0^m p(z)c(z)dz\n",
    "$$\n",
    "by the definition of the price index."
   ]
  },
  {
   "cell_type": "markdown",
   "metadata": {},
   "source": [
    "We know from the budget constraint that\n",
    "$$\n",
    "\\pi + w\\bar{l} = p_0c_0 + \\int_0^m p(z)c(z)dz\n",
    "$$\n",
    "and then using the above condition\n",
    "$$\n",
    "\\pi + w\\bar{l} = p_0c_0 + \\frac{\\alpha}{(1-\\alpha)} p_0c_0\n",
    "$$\n",
    "$$\n",
    "\\implies \\pi + w\\bar{l} = \\frac{1}{1-\\alpha}  p_0c_0\n",
    "$$\n",
    "$$\n",
    "\\implies c_0 = \\frac{\\left[\\pi + w\\bar{l}\\right](1-\\alpha)}{p_0}\n",
    "$$\n",
    "and so we have found $c_0$. We must now find an expression for $c(z), \\forall z$. Again, using the relationship above,\n",
    "$$\n",
    "\\pi + w\\bar{l} = \\frac{1}{\\alpha}  \\int_0^m p(z)c(z') p(z)^\\frac{1}{\\rho-1}p(z')^\\frac{1}{1-\\rho}   dz\n",
    "$$\n",
    "$$\n",
    "\\implies \\pi + w\\bar{l} = \\frac{1}{\\alpha}  c(z') p(z')^\\frac{1}{1-\\rho}  \\int_0^m p(z)^\\frac{\\rho}{\\rho-1} dz\n",
    "$$\n",
    "$$\n",
    "\\implies \\pi + w\\bar{l} = \\frac{1}{\\alpha}  c(z') p(z')^\\frac{1}{1-\\rho}  \\bar{P}^{\\frac{\\rho}{\\rho-1}}\n",
    "$$\n",
    "$$\n",
    "\\implies \\frac{\\left[\\pi + w\\bar{l}\\right]\\alpha}{p(z')^\\frac{1}{1-\\rho}\\bar{P}^{\\frac{\\rho}{\\rho-1}}} = c(z')\n",
    "$$\n",
    "$$\n",
    "\\implies c(z) = \\frac{\\alpha\\left[\\pi + w\\bar{l}\\right]}{p(z)^\\frac{1}{1-\\rho}\\bar{P}^{\\frac{\\rho}{\\rho-1}}}, \\forall z.\n",
    "$$"
   ]
  },
  {
   "cell_type": "markdown",
   "metadata": {},
   "source": [
    "Now that we have the above conditions, we can derive the firm's optimal pricing rule. To do so, we note that the firms solves the following problem\n",
    "$$\n",
    "\\max_{\\{p(z)\\}} p(z)c(z) - \\frac{wc(z)}{x(z)} - wf,\n",
    "$$\n",
    "$$\n",
    "s.t. \\quad c(z) = \\frac{\\alpha\\left[\\pi + w\\bar{l}\\right]}{p(z)^\\frac{1}{1-\\rho}\\bar{P}^{\\frac{\\rho}{\\rho-1}}}.\n",
    "$$\n",
    "This is equivalent to:\n",
    "$$\n",
    "\\max_{\\{p(z)\\}} p(z) \\frac{\\alpha\\left[\\pi + w\\bar{l}\\right]}{p(z)^\\frac{1}{1-\\rho}\\bar{P}^{\\frac{\\rho}{\\rho-1}}} -\\frac{w}{x(z)}\\frac{\\alpha\\left[\\pi + w\\bar{l}\\right]}{p(z)^\\frac{1}{1-\\rho}\\bar{P}^{\\frac{\\rho}{\\rho-1}}} - wf.\n",
    "$$\n",
    "First, rearrange the above to\n",
    "$$\n",
    "\\max_{\\{p(z)\\}} \\frac{\\alpha\\left[\\pi + w\\bar{l}\\right]}{\\bar{P}^{\\frac{\\rho}{\\rho-1}}}p(z)^{\\frac{\\rho}{\\rho-1}} - \\frac{w\\alpha\\left[\\pi + w\\bar{l}\\right]}{x(z)\\bar{P}^{\\frac{\\rho}{\\rho-1}}}p(z)^{\\frac{1}{\\rho-1}} - wf,\n",
    "$$\n",
    "and the, taking first-order conditions we find\n",
    "$$\n",
    "[p(z)]: 0 = \\frac{\\alpha\\left[\\pi + w\\bar{l}\\right]}{\\bar{P}^{\\frac{\\rho}{\\rho-1}}} \\frac{\\rho}{\\rho-1} p(z)^{\\frac{1}{\\rho-1}} - \\frac{w\\alpha\\left[\\pi + w\\bar{l}\\right]}{x(z)\\bar{P}^{\\frac{\\rho}{\\rho-1}}} {\\frac{1}{\\rho-1}} p(z)^{\\frac{2-\\rho}{\\rho-1}} \n",
    "$$\n",
    "$$\n",
    "\\implies \\rho p(z)^{\\frac{1}{\\rho-1}} = \\frac{w}{x(z)} p(z)^{\\frac{2-\\rho}{\\rho-1}} \n",
    "$$\n",
    "$$\n",
    "\\implies \\frac{\\rho x(z)}{w} = p(x)^{\\frac{2-\\rho}{\\rho-1}-\\frac{1}{\\rho}} = p(x)^{-1}\n",
    "$$\n",
    "$$\n",
    "\\implies p(z) = \\frac{w}{\\rho x(z)}, \\forall z.\n",
    "$$"
   ]
  },
  {
   "cell_type": "markdown",
   "metadata": {},
   "source": [
    "Finally, since good $0$ is CRS, it must be that $w=p_0$. So, let us standardise $w=p_0=1$ and as such\n",
    "$$\n",
    "p(z) = \\frac{1}{\\rho x(z)}, \\forall z.\n",
    "$$"
   ]
  },
  {
   "cell_type": "markdown",
   "metadata": {},
   "source": [
    "#### *(b)*"
   ]
  },
  {
   "cell_type": "markdown",
   "metadata": {},
   "source": [
    "*Suppose that good $0$ is produced with the constant-returns production function specified above. Suppose that firm productivities are distributed on the interval $x\\geq1$ according to the Pareto distribution with distribution function*\n",
    "$$\n",
    "F(x) = 1-x^{-\\gamma},\n",
    "$$\n",
    "*where $\\gamma>2$ and $\\gamma>\\frac{\\rho}{1-\\rho}$. Also suppose that the measure of potential firms is fixed at $\\mu$. Define an equilibrium for this economy.*"
   ]
  },
  {
   "cell_type": "markdown",
   "metadata": {},
   "source": [
    "##### **Equilibrium**"
   ]
  },
  {
   "cell_type": "markdown",
   "metadata": {},
   "source": [
    "Given a fixed measure of firms $\\mu>0$ an equilibrium consists of:\n",
    "* A measure of firms, $\\{\\hat{m} \\}$\n",
    "* Prices, $\\hat{\\mathcal{P}} = \\{\\hat{w},\\hat{p_0}, \\{\\hat{p}(z)\\}_z,\\bar{P}\\}$\n",
    "* Consumer allocation $\\hat{\\mathcal{G}} = \\{\\hat{c_0},\\{\\hat{c}(z)\\}_z \\}$\n",
    "* Production plans $\\tilde{\\mathcal{G}} =  \\{\\{\\hat{y_0},\\hat{l_0}\\},\\{\\hat{y}(z), \\hat{l}(z)\\}_z \\} $\n",
    "* Profits $\\{\\pi(z)\\}_z$\n",
    "* and a critical productivity value, $\\bar{x}$\n",
    "\n",
    "such that\n",
    "\n",
    "*(1)* Given $\\hat{\\mathcal{P}}$, consumers choose $\\hat{\\mathcal{G}}$ to solve\n",
    "$$\n",
    "\\max_{\\{\\mathcal{G}\\}} (1-\\alpha) \\log(c_0) + \\frac{\\alpha}{\\rho}\\log \\int_0^m c(z)^{\\rho} dz\n",
    "$$\n",
    "$$\n",
    "s.t. \\quad p_0c_0 + \\int_0^m p(z)c(z) dz = w\\bar{l} + \\pi\n",
    "$$\n",
    "$$\n",
    "c(z) \\geq 0\n",
    "$$\n",
    "*(2)* $\\hat{w}$ and $p_0$ are such that the agricultural firm chooses $\\{ \\hat{y_0}, \\hat{l_0}  \\}$ to earn zero profits,\n",
    "$$\n",
    "\\hat{p_0}y_0 - \\hat{w}l_0 \\leq 0 \n",
    "$$\n",
    "*(3)* Given $\\hat{\\mathcal{P}}$, producers of good $z$ with $x(z)\\geq \\bar{x}$ choose $\\{\\hat{p}(z)\\}$ to solve\n",
    "$$\n",
    "\\pi(x(z)) = \\max_{\\{p(z)\\}} p(z)c(z) - \\frac{\\hat{w}c(z)}{x(z)} - wf, \n",
    "$$\n",
    "$$\n",
    "s.t. c(z) = \\frac{\\alpha\\left[\\hat{w}\\bar{l} + \\int_0^{\\hat{m}} \\pi(z)dz  \\right]}{p(z)^{\\frac{1}{1-\\rho}}\\bar{P}^\\frac{\\rho}{\\rho-1}}, \\quad \\bar{P} = \\left[ \\int_0^{\\hat{m}}p(z)^{\\frac{\\rho}{\\rho-1}} dz \\right]^{\\frac{\\rho-1}{\\rho}}\n",
    "$$\n",
    "*(4)* The measure of producing firms is given by\n",
    "$$\n",
    "\\hat{m} = \\mu \\int_0^{\\hat{m}} dF(x).\n",
    "$$\n",
    "*(5)* and markets clear\n",
    "$$\n",
    "\\hat{y_0} = \\hat{c_0}\n",
    "$$\n",
    "$$\n",
    "\\hat{l_0} + \\int_0^{\\hat{m}} \\hat{l(z)}dz = \\bar{l}\n",
    "$$\n",
    "$$\n",
    "\\hat{c}(z) = \\hat{y}(z), \\forall z.\n",
    "$$"
   ]
  },
  {
   "cell_type": "markdown",
   "metadata": {},
   "source": [
    "#### *(c)*"
   ]
  },
  {
   "cell_type": "markdown",
   "metadata": {},
   "source": [
    "*Suppose that, in equilibrium not all firms actually produce. Find an expression for the productivity of the least productive firm that produces. That is, find a productivity $\\bar{x}>1$ such that no firm with $x(z)<\\bar{x}$ produces and all firms with $x(z)\\geq\\bar{x}$ produce. Relate the measure of firms that produce, $m$, to the measure of potential firms and the cutoff, $\\bar{x}$.*"
   ]
  },
  {
   "cell_type": "markdown",
   "metadata": {},
   "source": [
    "Above, we defined the price index as \n",
    "$$\n",
    "\\bar{P} = \\left[\\int_0^{\\hat{m}} p(z)^{\\frac{\\rho}{\\rho-1}} dz \\right]^{\\frac{\\rho-1}{\\rho}}.\n",
    "$$\n",
    "We can rewrite this in terms of productivities as\n",
    "$$\n",
    "\\bar{P} = \\left[\\mu \\int_{\\bar{x}}^{\\infty} p(x)^{\\frac{\\rho}{\\rho-1}} dF(x)\\right]^{\\frac{\\rho-1}{\\rho}}\n",
    "$$ \n",
    "$$\n",
    "\\implies \\bar{P}^{\\frac{\\rho}{\\rho-1}} = \\mu \\int_{\\bar{x}}^{\\infty} p(x)^{\\frac{\\rho}{\\rho-1}} dF(x).\n",
    "$$\n",
    "Since the pdf of a Pareto distribution is given by $\\gamma x^{-\\gamma - 1}$, we can alternatively write the price index as\n",
    "$$\n",
    "\\bar{P}^{\\frac{\\rho}{\\rho-1}} = \\mu \\gamma \\int_{\\bar{x}}^{\\infty} p(x)^{\\frac{\\rho}{\\rho-1}} x^{-\\gamma - 1} dx\n",
    "$$\n",
    "and then, recalling that the optimal pricing rule is $\\hat{p}(x) = \\frac{1}{\\rho x}$, we find\n",
    "$$\n",
    "\\bar{P}^{\\frac{\\rho}{\\rho-1}} = \\mu \\gamma \\int_{\\bar{x}}^{\\infty} \\left(\\frac{1}{\\rho x}\\right)^{\\frac{\\rho}{\\rho-1}} x^{-\\gamma - 1} dx\n",
    "$$\n",
    "$$\n",
    "\\implies \\bar{P}^{\\frac{\\rho}{\\rho-1}} = \\mu \\gamma \\rho^{\\frac{\\rho}{1-\\rho}}\\int_{\\bar{x}}^{\\infty}  x^{\\frac{\\rho}{1-\\rho}-\\gamma - 1} dx\n",
    "$$\n",
    "$$\n",
    "\\implies \\bar{P}^{\\frac{\\rho}{\\rho-1}} = \\mu \\gamma \\rho^{\\frac{\\rho}{1-\\rho}} \\left[\\frac{x^{\\frac{\\rho}{1-\\rho}-\\gamma}}{\\frac{\\rho}{1-\\rho}-\\gamma} \\right]_{\\bar{x}}^{\\infty}\n",
    "$$\n",
    "$$\n",
    "\\implies \\bar{P}^{\\frac{\\rho}{\\rho-1}} = \\frac{\\mu \\gamma \\rho^{\\frac{\\rho}{1-\\rho}}}{\\frac{\\rho}{1-\\rho}-\\gamma} \\left[x^{\\frac{\\rho}{1-\\rho}-\\gamma} \\right]_{\\bar{x}}^{\\infty}\n",
    "$$\n",
    "$$\n",
    "\\implies \\bar{P}^{\\frac{\\rho}{\\rho-1}} = \\frac{(1-\\rho)\\mu \\gamma \\rho^{\\frac{\\rho}{1-\\rho}}}{\\rho-\\gamma(1-\\rho)} \\left[x^{\\frac{\\rho}{1-\\rho}-\\gamma} \\right]_{\\bar{x}}^{\\infty}\n",
    "$$\n",
    "and, since $\\gamma>\\frac{\\rho}{1-\\rho}$ by assumption, it must be that \n",
    "$$\n",
    "\\lim_{x\\rightarrow\\infty} x^{\\frac{\\rho}{1-\\rho}-\\gamma} = 0\n",
    "$$\n",
    "and so we end up with\n",
    "$$\n",
    "\\bar{P}^{\\frac{\\rho}{\\rho-1}} = \\frac{(1-\\rho)\\mu \\gamma \\rho^{\\frac{\\rho}{1-\\rho}}}{\\gamma(1-\\rho)-\\rho} \\bar{x}^{\\frac{\\rho-\\gamma(1-\\rho)}{1-\\rho}}\n",
    "$$\n",
    "where we note that we have swapped the sign on the denominator and rewritten the power on $\\bar{x}$."
   ]
  },
  {
   "cell_type": "markdown",
   "metadata": {},
   "source": [
    "Recall that the demand function, $c(x)$ is\n",
    "$$\n",
    "c(x) = \\frac{\\alpha(\\pi+\\bar{l})}{\\left(\\frac{1}{\\rho x}\\right)^{\\frac{1}{1-\\rho}}\\bar{P}^{\\frac{\\rho}{\\rho-1}}}\n",
    "$$\n",
    "where we have substituted in the optimal pricing rule, and so combining this with the above yields\n",
    "$$\n",
    "c(x) = \\frac{\\alpha(\\pi+\\bar{l})}{\\left(\\frac{1}{\\rho x}\\right)^{\\frac{1}{1-\\rho}}\\frac{(1-\\rho)\\mu \\gamma \\rho^{\\frac{\\rho}{1-\\rho}}}{\\gamma(1-\\rho)-\\rho} \\bar{x}^{\\frac{\\rho-\\gamma(1-\\rho)}{1-\\rho}}}\n",
    "$$\n",
    "$$\n",
    "\\implies c(x) = \\frac{(\\gamma(1-\\rho)-\\rho)\\alpha(\\pi+\\bar{l})}{(1-\\rho)\\mu \\gamma (\\rho^{\\frac{\\rho}{1-\\rho}-\\frac{1}{1-\\rho}})(\\bar{x}^{\\frac{\\rho-\\gamma(1-\\rho)}{1-\\rho}-\\frac{1}{1-\\rho}})}\n",
    "$$\n",
    "$$\n",
    "\\implies c(x) = \\frac{(\\gamma(1-\\rho)-\\rho)\\alpha\\rho(\\pi+\\bar{l})}{(1-\\rho)\\mu\\gamma\\bar{x}^{-\\gamma-1}}.\n",
    "$$\n",
    "We also know that, at the cutoff productivity, the firm makes zero profits\n",
    "$$\n",
    "p(\\bar{x})c(\\bar{x}) - \\frac{c(\\bar{x})}{\\bar{x}} - f = 0\n",
    "$$\n",
    "and so, using the demand function and the optimal price, we find\n",
    "$$\n",
    "f = \\frac{1}{\\rho \\bar{x}}\\frac{(\\gamma(1-\\rho)-\\rho)\\alpha\\rho(\\pi+\\bar{l})}{(1-\\rho)\\mu\\gamma\\bar{x}^{-\\gamma-1}} - \\frac{1}{\\bar{x}}\\frac{(\\gamma(1-\\rho)-\\rho)\\alpha\\rho(\\pi+\\bar{l})}{(1-\\rho)\\mu\\gamma\\bar{x}^{-\\gamma-1}}\n",
    "$$\n",
    "$$\n",
    "\\implies f = \\frac{(\\gamma(1-\\rho)-\\rho)\\alpha(\\pi+\\bar{l})}{(1-\\rho)\\mu\\gamma\\bar{x}^{-\\gamma}} - \\frac{(\\gamma(1-\\rho)-\\rho)\\alpha\\rho(\\pi+\\bar{l})}{(1-\\rho)\\mu\\gamma\\bar{x}^{-\\gamma}}\n",
    "$$\n",
    "$$\n",
    "\\implies f = \\frac{(\\gamma(1-\\rho)-\\rho)\\alpha(1-\\rho)(\\pi+\\bar{l})}{(1-\\rho)\\mu\\gamma\\bar{x}^{-\\gamma}}\n",
    "$$\n",
    "$$\n",
    "\\implies f = \\frac{(\\gamma(1-\\rho)-\\rho)\\alpha(\\pi+\\bar{l})}{\\mu\\gamma\\bar{x}^{-\\gamma}}\n",
    "$$\n",
    "and so, rearranging this condition gives us an expression for the cutoff productivity, $\\bar{x}$\n",
    "$$\n",
    "\\bar{x} = \\left(\\frac{\\mu \\gamma f }{\\alpha(\\pi + \\bar{l})(\\gamma(1-\\rho)-\\rho)}\\right)^{\\frac{1}{\\gamma}}\n",
    "$$"
   ]
  },
  {
   "cell_type": "markdown",
   "metadata": {},
   "source": [
    "However, we must note that this expression depends upon aggregate profits, $\\pi$."
   ]
  },
  {
   "cell_type": "markdown",
   "metadata": {},
   "source": [
    "#### *(d)*"
   ]
  },
  {
   "cell_type": "markdown",
   "metadata": {},
   "source": [
    "Suppose that now there are two countries that engage in trade. Each country, $i$, $i=1,2$, has a population of $\\bar{l_i}$ and a measure of potential firms $\\mu_i$. Firms' productivities are again distributed according to the Pareto distribution, $F(x) = 1-x^{-\\gamma}$. A firm in country $i$ faces a fixed cost of exporting to country $j$, $j\\neq i$, of $f_e$, where $f_e > f_d = f$. Each country also imposes an *ad valorem* tariff $\\tau$ on imports of differentiated goods from the other country. The revenues from these tarrifs is redistributed in lump-sum form to the consumer in that country. Define an equilibrium for this world economy. "
   ]
  },
  {
   "cell_type": "markdown",
   "metadata": {},
   "source": []
  },
  {
   "cell_type": "markdown",
   "metadata": {},
   "source": [
    "#### *(e)*"
   ]
  },
  {
   "cell_type": "markdown",
   "metadata": {},
   "source": [
    "Suppose that the two countries in *(d)* are symmetric in the sense that $\\bar{l_i} = \\bar{l}, \\forall i$, and $\\mu_i = \\mu, \\forall i$. Explain how to characterise the equilibrium production patterms with a cutoff value, or values, as in *(c)*. Compare this value, or these values, with *(c)*. Draw a graph depicting what happens when a closed economy opens to trade."
   ]
  },
  {
   "cell_type": "markdown",
   "metadata": {},
   "source": []
  },
  {
   "cell_type": "markdown",
   "metadata": {},
   "source": [
    "#### *(f)*"
   ]
  },
  {
   "cell_type": "markdown",
   "metadata": {},
   "source": [
    "Discuss the strengths and limitations of this sort of model in accounting for firm-level data on exports."
   ]
  },
  {
   "cell_type": "markdown",
   "metadata": {},
   "source": []
  }
 ],
 "metadata": {
  "kernelspec": {
   "display_name": "Julia 1.10.1",
   "language": "julia",
   "name": "julia-1.10"
  },
  "language_info": {
   "file_extension": ".jl",
   "mimetype": "application/julia",
   "name": "julia",
   "version": "1.10.1"
  }
 },
 "nbformat": 4,
 "nbformat_minor": 2
}
