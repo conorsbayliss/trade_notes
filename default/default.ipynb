{
 "cells": [
  {
   "cell_type": "markdown",
   "metadata": {},
   "source": [
    "# **Cole-Kehoe Notes**"
   ]
  },
  {
   "cell_type": "markdown",
   "metadata": {},
   "source": [
    "## *Conor Bayliss*"
   ]
  },
  {
   "cell_type": "markdown",
   "metadata": {},
   "source": [
    "### **Spring 2024**"
   ]
  },
  {
   "cell_type": "markdown",
   "metadata": {},
   "source": [
    "Considera small open economy whose goernment borrows from international lenders. In every period, the value of output is\n",
    "$$\n",
    "y(z) = Z^{1-z}\\bar{y}\n",
    "$$\n",
    "where $1>Z>0$ is a constant and $z=0$ if the government defaults in that period or has defualted in the past and $\\bar{y}$ is a constant. The government's tax revenue is $\\theta y(z)$ where the tax rate is $1>\\theta>0$ is constant. The consumers in the economy consume $c=(10\\theta)y(z)$. The government is benevloent and makes choices to maximise the expected discounted value of \n",
    "$$\n",
    "u(c,g) = \\log(c) + \\gamma \\log(g)\n",
    "$$\n",
    "where $\\gamma>0$ and $1>\\beta>0$ is the discount factor.\n",
    "\n",
    "At the beginning of every period, the state of the economy is $s = (B,z_{-1},\\zeta)$ where $B$ is the level of government debt; $z_{-1} = 0$ indicates if the government has defaulted in the past, and $z_{-1} = 1$ if not, and $\\zeta \\sim U[0,1]$ is the realisation of the sunspot variable."
   ]
  },
  {
   "cell_type": "markdown",
   "metadata": {},
   "source": [
    "The government first offers $B'$ to international bankers. The international bankers have the same discount factor $\\beta$ as the government. They are also risk neutral and have deep pockets. These international bankers buy the bonds at a competitive auction that determines a price for $B'$, $q(B',s)$. The government finally chooses to default or not, which determines private consumption, $c$. Government spending $g$ is determined by the government's budget constraint\n",
    "$$\n",
    "q+zB = \\theta y(z) + q(B',s)B'.\n",
    "$$\n",
    "If the government defaults, setting $z=0$, then assume that $z_{-1}=0$ implies $z=0$ thereafter; that is, the economy suffers from the default penalty $1-Z$ forever. Furthermore, $z_{-1}=0$ implies $q(B',s)=0$; that is, the government is permanently excluded from credit markets."
   ]
  },
  {
   "cell_type": "markdown",
   "metadata": {},
   "source": [
    "#### ***(a) Define a recursive equilibrium.***"
   ]
  },
  {
   "cell_type": "markdown",
   "metadata": {},
   "source": []
  },
  {
   "cell_type": "markdown",
   "metadata": {},
   "source": [
    "#### ***(b) Assume that bankers expect the government to default if $\\zeta>1-\\pi$ and if such an expectation would be self-fulfilling, where $1\\geq \\pi \\geq 0$ is an arbitrary constant.***\n",
    "\n",
    "#### ***Find a level of debt $\\bar{b}$ such that, if $B\\leq\\bar{b}$, no default occurs in equilibrium, but that, if $B>\\bar{b}$, default occurs in equilibrium.***"
   ]
  },
  {
   "cell_type": "markdown",
   "metadata": {},
   "source": []
  },
  {
   "cell_type": "markdown",
   "metadata": {},
   "source": [
    "#### ***(c) Suppose that $B_0>\\bar{b}$, and the government chooses to run down its debt to $B_T\\leq\\bar{b}$ in $T$ periods. Prove that it cannot be optimal to set $B_T<\\bar{b}$.***\n",
    "\n",
    "#### ***Prove that it is optimal for the government to set $g_t$ constant as long as $B_t>\\bar{b}$ and no crisis occurs.***\n",
    "#### ***Find expressions for $g_t$ and $B_t$ that depend on $B_0$ and $T$.***\n",
    "#### ***Find an expression for the expected discounted value of the utility of runnning down the debt that starts at $B_0$ to $\\bar{b}$ in $T$ periods.*** \n",
    "#### ***Find the limit of these expressions when $T\\rightarrow\\infty$.***"
   ]
  },
  {
   "cell_type": "markdown",
   "metadata": {},
   "source": []
  },
  {
   "cell_type": "markdown",
   "metadata": {},
   "source": [
    "#### ***(d) Using the above, write down a formula that determines a value of debt $\\bar{B}(\\pi)$ such that the government would choose to default if $B>\\bar{B}(\\pi)$ even if international bankers do not expect a default.***"
   ]
  },
  {
   "cell_type": "markdown",
   "metadata": {},
   "source": []
  },
  {
   "cell_type": "markdown",
   "metadata": {},
   "source": [
    "#### ***(e) Using the above, construct a recursive equilibrium.***"
   ]
  },
  {
   "cell_type": "markdown",
   "metadata": {},
   "source": []
  },
  {
   "cell_type": "markdown",
   "metadata": {},
   "source": [
    "#### ***(f) Use the model to interpret events of the Mexican financial crisis of December 1994 through January 1995. Discuss the strengths and weaknesses of this model.***"
   ]
  },
  {
   "cell_type": "markdown",
   "metadata": {},
   "source": []
  }
 ],
 "metadata": {
  "kernelspec": {
   "display_name": "Julia 1.10.1",
   "language": "julia",
   "name": "julia-1.10"
  },
  "language_info": {
   "file_extension": ".jl",
   "mimetype": "application/julia",
   "name": "julia",
   "version": "1.10.1"
  }
 },
 "nbformat": 4,
 "nbformat_minor": 2
}
